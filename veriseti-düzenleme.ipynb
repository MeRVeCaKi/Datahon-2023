{
 "cells": [
  {
   "cell_type": "code",
   "execution_count": 1,
   "metadata": {},
   "outputs": [],
   "source": [
    "import pandas as pd"
   ]
  },
  {
   "cell_type": "code",
   "execution_count": 2,
   "metadata": {},
   "outputs": [],
   "source": [
    "train = pd.read_csv(\"train.csv\")\n",
    "test_x = pd.read_csv(\"test_x.csv\")"
   ]
  },
  {
   "cell_type": "code",
   "execution_count": 3,
   "metadata": {},
   "outputs": [],
   "source": [
    "train = train.drop(\"index\",axis=1)\n",
    "train[\"Cinsiyet\"] = train[\"Cinsiyet\"].apply(lambda x:1 if x == \"Kadın\" else 0)\n",
    "train[\"Medeni Durum\"] = train[\"Medeni Durum\"].apply(lambda x:1 if x == \"Bekar\" else 0)\n",
    "train[\"Eğitime Devam Etme Durumu\"] = train[\"Eğitime Devam Etme Durumu\"].apply(lambda x:1 if x == \"Ediyor\" else 0)\n",
    "train[\"Eğitim Düzeyi\"] = train[\"Eğitim Düzeyi\"].replace(\n",
    "    ['Eğitimsiz','İlkokul Mezunu','Ortaokul Mezunu','Lise Mezunu',\n",
    "     'Yüksekokul Mezunu','Üniversite Mezunu','Yüksek Lisans Mezunu',\n",
    "     'Doktora Mezunu','Doktora Ötesi'],[0,1,2,3,4,5,6,7,8]\n",
    ")\n",
    "train[\"İstihdam Durumu\"] = train[\"İstihdam Durumu\"].replace(\n",
    "    ['İşsiz veya Düzenli Bir İşi Yok','Düzenli ve Ücretli Bir İşi Var',\n",
    "     'Kendi İşinin Sahibi','Emekli'],[0,1,2,3]\n",
    ")\n",
    "train[\"Yaşadığı Şehir\"] = train[\"Yaşadığı Şehir\"].replace(\n",
    "    ['Büyük Şehir', 'Küçük Şehir', 'Kırsal', 'Köy veya Kasaba'],[0,1,2,3]\n",
    ")\n",
    "train[\"En Çok İlgilendiği Ürün Grubu\"] = train[\"En Çok İlgilendiği Ürün Grubu\"].replace(\n",
    "    ['Elektronik ve Teknolojik Ürünler','Spor Malzemeleri','Giyim',\n",
    "     'Ev ve Mobilya','Kozmetik'],[0,1,2,3,4]\n",
    ")\n",
    "train = pd.get_dummies(train, columns=[\"Yaş Grubu\"])"
   ]
  },
  {
   "cell_type": "code",
   "execution_count": 4,
   "metadata": {},
   "outputs": [],
   "source": [
    "train[['Yaş Grubu_18-30',\n",
    "       'Yaş Grubu_31-40', 'Yaş Grubu_41-50', 'Yaş Grubu_51-60',\n",
    "       'Yaş Grubu_>60']] = train[['Yaş Grubu_18-30',\n",
    "       'Yaş Grubu_31-40', 'Yaş Grubu_41-50', 'Yaş Grubu_51-60',\n",
    "       'Yaş Grubu_>60']].astype(int)"
   ]
  },
  {
   "cell_type": "code",
   "execution_count": 5,
   "metadata": {},
   "outputs": [],
   "source": [
    "test_x = test_x.drop(\"index\",axis=1)\n",
    "test_x[\"Cinsiyet\"] = test_x[\"Cinsiyet\"].apply(lambda x:1 if x == \"Kadın\" else 0)\n",
    "test_x[\"Medeni Durum\"] = test_x[\"Medeni Durum\"].apply(lambda x:1 if x == \"Bekar\" else 0)\n",
    "test_x[\"Eğitime Devam Etme Durumu\"] = test_x[\"Eğitime Devam Etme Durumu\"].apply(lambda x:1 if x == \"Ediyor\" else 0)\n",
    "test_x[\"Eğitim Düzeyi\"] = test_x[\"Eğitim Düzeyi\"].replace(\n",
    "    ['Eğitimsiz','İlkokul Mezunu','Ortaokul Mezunu','Lise Mezunu',\n",
    "     'Yüksekokul Mezunu','Üniversite Mezunu','Yüksek Lisans Mezunu',\n",
    "     'Doktora Mezunu','Doktora Ötesi'],[0,1,2,3,4,5,6,7,8]\n",
    ")\n",
    "test_x[\"İstihdam Durumu\"] = test_x[\"İstihdam Durumu\"].replace(\n",
    "    ['İşsiz veya Düzenli Bir İşi Yok','Düzenli ve Ücretli Bir İşi Var',\n",
    "     'Kendi İşinin Sahibi','Emekli'],[0,1,2,3]\n",
    ")\n",
    "test_x[\"Yaşadığı Şehir\"] = test_x[\"Yaşadığı Şehir\"].replace(\n",
    "    ['Büyük Şehir', 'Küçük Şehir', 'Kırsal', 'Köy veya Kasaba'],[0,1,2,3]\n",
    ")\n",
    "test_x[\"En Çok İlgilendiği Ürün Grubu\"] = test_x[\"En Çok İlgilendiği Ürün Grubu\"].replace(\n",
    "    ['Elektronik ve Teknolojik Ürünler','Spor Malzemeleri','Giyim',\n",
    "     'Ev ve Mobilya','Kozmetik'],[0,1,2,3,4]\n",
    ")\n",
    "test_x = pd.get_dummies(test_x, columns=[\"Yaş Grubu\"])"
   ]
  },
  {
   "cell_type": "code",
   "execution_count": 6,
   "metadata": {},
   "outputs": [],
   "source": [
    "test_x[['Yaş Grubu_18-30',\n",
    "       'Yaş Grubu_31-40', 'Yaş Grubu_41-50', 'Yaş Grubu_51-60',\n",
    "       'Yaş Grubu_>60']] = test_x[['Yaş Grubu_18-30',\n",
    "       'Yaş Grubu_31-40', 'Yaş Grubu_41-50', 'Yaş Grubu_51-60',\n",
    "       'Yaş Grubu_>60']].astype(int)"
   ]
  },
  {
   "cell_type": "code",
   "execution_count": 7,
   "metadata": {},
   "outputs": [],
   "source": [
    "from sklearn.preprocessing import MinMaxScaler"
   ]
  },
  {
   "cell_type": "code",
   "execution_count": 8,
   "metadata": {},
   "outputs": [],
   "source": [
    "scaler = MinMaxScaler()\n",
    "scaled_values_1 = scaler.fit_transform(train[['Yıllık Ortalama Gelir',\n",
    "                                'Yıllık Ortalama Satın Alım Miktarı',\n",
    "                                'Yıllık Ortalama Sipariş Verilen Ürün Adedi',\n",
    "                                'Yıllık Ortalama Sepete Atılan Ürün Adedi']])\n",
    "train[['Yıllık Ortalama Gelir','Yıllık Ortalama Satın Alım Miktarı',\n",
    "       'Yıllık Ortalama Sipariş Verilen Ürün Adedi',\n",
    "       'Yıllık Ortalama Sepete Atılan Ürün Adedi']] = scaled_values_1\n",
    "scaled_values_2 = scaler.fit_transform(test_x[['Yıllık Ortalama Gelir',\n",
    "                                'Yıllık Ortalama Satın Alım Miktarı',\n",
    "                                'Yıllık Ortalama Sipariş Verilen Ürün Adedi',\n",
    "                                'Yıllık Ortalama Sepete Atılan Ürün Adedi']])\n",
    "test_x[['Yıllık Ortalama Gelir','Yıllık Ortalama Satın Alım Miktarı',\n",
    "       'Yıllık Ortalama Sipariş Verilen Ürün Adedi',\n",
    "       'Yıllık Ortalama Sepete Atılan Ürün Adedi']] = scaled_values_2"
   ]
  },
  {
   "cell_type": "code",
   "execution_count": 9,
   "metadata": {},
   "outputs": [],
   "source": [
    "from sklearn.model_selection import train_test_split"
   ]
  },
  {
   "cell_type": "markdown",
   "metadata": {},
   "source": [
    "train[\"Öbek İsmi\"] = train[\"Öbek İsmi\"].replace([\"obek_1\",\"obek_2\",\"obek_3\",\"obek_4\",\"obek_5\",\"obek_6\",\"obek_7\",\"obek_8\"],[\n",
    "    \"Eğitim Hayatından Erken Vazgeçip Küçük Dertlere Koşan Şehir İnsanı\",\n",
    "    \"Kimseye Yararı Olmayan Erkek\",\n",
    "    \"Liseden İşe Başlayan Evine Bağlı Aile Babası\",\n",
    "    \"Eğitimini Tamamlamış Hayatını Yaşayan Büyük Şehir Yerlisi\",\n",
    "    \"Yüksek Eğitim Yerine Düzenli Bir İşi Seçen Erkek\",\n",
    "    \"Emekliliği Eline Alınca Rahatına Bakan Küçük Yer İnsanı\",\n",
    "    \"Yüksek Eğitimden Sonra Çalışma Hayatına İmkanlarının Üstünde Devam Etmeye Çalışan Şehir İnsanı\",\n",
    "    \"Hayatını Eğitimine ve Çalışmaya Adamış Bekar Şehir İnsanı\"])"
   ]
  },
  {
   "cell_type": "code",
   "execution_count": 10,
   "metadata": {},
   "outputs": [
    {
     "data": {
      "text/html": [
       "<div>\n",
       "<style scoped>\n",
       "    .dataframe tbody tr th:only-of-type {\n",
       "        vertical-align: middle;\n",
       "    }\n",
       "\n",
       "    .dataframe tbody tr th {\n",
       "        vertical-align: top;\n",
       "    }\n",
       "\n",
       "    .dataframe thead th {\n",
       "        text-align: right;\n",
       "    }\n",
       "</style>\n",
       "<table border=\"1\" class=\"dataframe\">\n",
       "  <thead>\n",
       "    <tr style=\"text-align: right;\">\n",
       "      <th></th>\n",
       "      <th>Cinsiyet</th>\n",
       "      <th>Medeni Durum</th>\n",
       "      <th>Eğitim Düzeyi</th>\n",
       "      <th>İstihdam Durumu</th>\n",
       "      <th>Yıllık Ortalama Gelir</th>\n",
       "      <th>Yaşadığı Şehir</th>\n",
       "      <th>En Çok İlgilendiği Ürün Grubu</th>\n",
       "      <th>Yıllık Ortalama Satın Alım Miktarı</th>\n",
       "      <th>Yıllık Ortalama Sipariş Verilen Ürün Adedi</th>\n",
       "      <th>Eğitime Devam Etme Durumu</th>\n",
       "      <th>Öbek İsmi</th>\n",
       "      <th>Yıllık Ortalama Sepete Atılan Ürün Adedi</th>\n",
       "      <th>Yaş Grubu_18-30</th>\n",
       "      <th>Yaş Grubu_31-40</th>\n",
       "      <th>Yaş Grubu_41-50</th>\n",
       "      <th>Yaş Grubu_51-60</th>\n",
       "      <th>Yaş Grubu_&gt;60</th>\n",
       "    </tr>\n",
       "  </thead>\n",
       "  <tbody>\n",
       "    <tr>\n",
       "      <th>0</th>\n",
       "      <td>1</td>\n",
       "      <td>1</td>\n",
       "      <td>6</td>\n",
       "      <td>1</td>\n",
       "      <td>0.613265</td>\n",
       "      <td>0</td>\n",
       "      <td>0</td>\n",
       "      <td>0.637245</td>\n",
       "      <td>0.577419</td>\n",
       "      <td>0</td>\n",
       "      <td>Hayatını Aktif Yaşayan Büyük Şehir Yerlisi</td>\n",
       "      <td>0.415218</td>\n",
       "      <td>0</td>\n",
       "      <td>1</td>\n",
       "      <td>0</td>\n",
       "      <td>0</td>\n",
       "      <td>0</td>\n",
       "    </tr>\n",
       "    <tr>\n",
       "      <th>1</th>\n",
       "      <td>0</td>\n",
       "      <td>0</td>\n",
       "      <td>3</td>\n",
       "      <td>2</td>\n",
       "      <td>0.176206</td>\n",
       "      <td>1</td>\n",
       "      <td>1</td>\n",
       "      <td>0.028122</td>\n",
       "      <td>0.178823</td>\n",
       "      <td>0</td>\n",
       "      <td>Liseden Sonra Düzenli ve Küçük Şehir Hayatı</td>\n",
       "      <td>0.328109</td>\n",
       "      <td>0</td>\n",
       "      <td>0</td>\n",
       "      <td>0</td>\n",
       "      <td>0</td>\n",
       "      <td>1</td>\n",
       "    </tr>\n",
       "    <tr>\n",
       "      <th>2</th>\n",
       "      <td>0</td>\n",
       "      <td>1</td>\n",
       "      <td>3</td>\n",
       "      <td>1</td>\n",
       "      <td>0.195609</td>\n",
       "      <td>1</td>\n",
       "      <td>2</td>\n",
       "      <td>0.154441</td>\n",
       "      <td>0.856646</td>\n",
       "      <td>1</td>\n",
       "      <td>Hayatını Eğitimine ve Çalışmaya Adamış Bekar Ş...</td>\n",
       "      <td>0.577700</td>\n",
       "      <td>1</td>\n",
       "      <td>0</td>\n",
       "      <td>0</td>\n",
       "      <td>0</td>\n",
       "      <td>0</td>\n",
       "    </tr>\n",
       "    <tr>\n",
       "      <th>3</th>\n",
       "      <td>0</td>\n",
       "      <td>0</td>\n",
       "      <td>3</td>\n",
       "      <td>2</td>\n",
       "      <td>0.247101</td>\n",
       "      <td>2</td>\n",
       "      <td>2</td>\n",
       "      <td>0.077788</td>\n",
       "      <td>0.238597</td>\n",
       "      <td>0</td>\n",
       "      <td>Pek Çok Alanda Alışveriş Yapan Evli Erkek</td>\n",
       "      <td>0.055049</td>\n",
       "      <td>0</td>\n",
       "      <td>0</td>\n",
       "      <td>0</td>\n",
       "      <td>1</td>\n",
       "      <td>0</td>\n",
       "    </tr>\n",
       "    <tr>\n",
       "      <th>4</th>\n",
       "      <td>0</td>\n",
       "      <td>0</td>\n",
       "      <td>2</td>\n",
       "      <td>0</td>\n",
       "      <td>0.307797</td>\n",
       "      <td>0</td>\n",
       "      <td>2</td>\n",
       "      <td>0.109898</td>\n",
       "      <td>0.227340</td>\n",
       "      <td>0</td>\n",
       "      <td>Pek Çok Alanda Alışveriş Yapan Evli Erkek</td>\n",
       "      <td>0.069202</td>\n",
       "      <td>0</td>\n",
       "      <td>1</td>\n",
       "      <td>0</td>\n",
       "      <td>0</td>\n",
       "      <td>0</td>\n",
       "    </tr>\n",
       "  </tbody>\n",
       "</table>\n",
       "</div>"
      ],
      "text/plain": [
       "   Cinsiyet  Medeni Durum  Eğitim Düzeyi  İstihdam Durumu  \\\n",
       "0         1             1              6                1   \n",
       "1         0             0              3                2   \n",
       "2         0             1              3                1   \n",
       "3         0             0              3                2   \n",
       "4         0             0              2                0   \n",
       "\n",
       "   Yıllık Ortalama Gelir  Yaşadığı Şehir  En Çok İlgilendiği Ürün Grubu  \\\n",
       "0               0.613265               0                              0   \n",
       "1               0.176206               1                              1   \n",
       "2               0.195609               1                              2   \n",
       "3               0.247101               2                              2   \n",
       "4               0.307797               0                              2   \n",
       "\n",
       "   Yıllık Ortalama Satın Alım Miktarı  \\\n",
       "0                            0.637245   \n",
       "1                            0.028122   \n",
       "2                            0.154441   \n",
       "3                            0.077788   \n",
       "4                            0.109898   \n",
       "\n",
       "   Yıllık Ortalama Sipariş Verilen Ürün Adedi  Eğitime Devam Etme Durumu  \\\n",
       "0                                    0.577419                          0   \n",
       "1                                    0.178823                          0   \n",
       "2                                    0.856646                          1   \n",
       "3                                    0.238597                          0   \n",
       "4                                    0.227340                          0   \n",
       "\n",
       "                                           Öbek İsmi  \\\n",
       "0         Hayatını Aktif Yaşayan Büyük Şehir Yerlisi   \n",
       "1        Liseden Sonra Düzenli ve Küçük Şehir Hayatı   \n",
       "2  Hayatını Eğitimine ve Çalışmaya Adamış Bekar Ş...   \n",
       "3          Pek Çok Alanda Alışveriş Yapan Evli Erkek   \n",
       "4          Pek Çok Alanda Alışveriş Yapan Evli Erkek   \n",
       "\n",
       "   Yıllık Ortalama Sepete Atılan Ürün Adedi  Yaş Grubu_18-30  Yaş Grubu_31-40  \\\n",
       "0                                  0.415218                0                1   \n",
       "1                                  0.328109                0                0   \n",
       "2                                  0.577700                1                0   \n",
       "3                                  0.055049                0                0   \n",
       "4                                  0.069202                0                1   \n",
       "\n",
       "   Yaş Grubu_41-50  Yaş Grubu_51-60  Yaş Grubu_>60  \n",
       "0                0                0              0  \n",
       "1                0                0              1  \n",
       "2                0                0              0  \n",
       "3                0                1              0  \n",
       "4                0                0              0  "
      ]
     },
     "execution_count": 10,
     "metadata": {},
     "output_type": "execute_result"
    }
   ],
   "source": [
    "train[\"Öbek İsmi\"] = train[\"Öbek İsmi\"].replace([\"obek_1\",\"obek_2\",\"obek_3\",\"obek_4\",\"obek_5\",\"obek_6\",\"obek_7\",\"obek_8\"],[\n",
    "    \"Giyime İlgi Duyan Küçük Şehir İnsanı\",\n",
    "    \"Kimseye Yararı Olmayan Erkek\",\n",
    "    \"Pek Çok Alanda Alışveriş Yapan Evli Erkek\",\n",
    "    \"Hayatını Aktif Yaşayan Büyük Şehir Yerlisi\",\n",
    "    \"Liseden Sonra Düzenli ve Küçük Şehir Hayatı\",\n",
    "    \"Emekliliği Eline Alınca Küçük Yere Kaçan Kişi\",\n",
    "    \"Az Maaşla Çok Alışveriş Yapmak İsteyen Eğitimli Şehir İnsanı\",\n",
    "    \"Hayatını Eğitimine ve Çalışmaya Adamış Bekar Şehir İnsanı\"])\n",
    "train.head()"
   ]
  },
  {
   "cell_type": "code",
   "execution_count": 11,
   "metadata": {},
   "outputs": [],
   "source": [
    "X = train.drop(\"Öbek İsmi\",axis=1)\n",
    "y = train[\"Öbek İsmi\"]"
   ]
  },
  {
   "cell_type": "code",
   "execution_count": 12,
   "metadata": {},
   "outputs": [],
   "source": [
    "X_train, X_test, y_train, y_test = train_test_split(X, y, test_size=0.2, random_state=50, shuffle=True)"
   ]
  },
  {
   "cell_type": "code",
   "execution_count": 13,
   "metadata": {},
   "outputs": [],
   "source": [
    "from sklearn.ensemble import RandomForestClassifier\n",
    "RandomForestClassifier = RandomForestClassifier()"
   ]
  },
  {
   "cell_type": "code",
   "execution_count": 14,
   "metadata": {},
   "outputs": [
    {
     "data": {
      "text/html": [
       "<style>#sk-container-id-1 {color: black;background-color: white;}#sk-container-id-1 pre{padding: 0;}#sk-container-id-1 div.sk-toggleable {background-color: white;}#sk-container-id-1 label.sk-toggleable__label {cursor: pointer;display: block;width: 100%;margin-bottom: 0;padding: 0.3em;box-sizing: border-box;text-align: center;}#sk-container-id-1 label.sk-toggleable__label-arrow:before {content: \"▸\";float: left;margin-right: 0.25em;color: #696969;}#sk-container-id-1 label.sk-toggleable__label-arrow:hover:before {color: black;}#sk-container-id-1 div.sk-estimator:hover label.sk-toggleable__label-arrow:before {color: black;}#sk-container-id-1 div.sk-toggleable__content {max-height: 0;max-width: 0;overflow: hidden;text-align: left;background-color: #f0f8ff;}#sk-container-id-1 div.sk-toggleable__content pre {margin: 0.2em;color: black;border-radius: 0.25em;background-color: #f0f8ff;}#sk-container-id-1 input.sk-toggleable__control:checked~div.sk-toggleable__content {max-height: 200px;max-width: 100%;overflow: auto;}#sk-container-id-1 input.sk-toggleable__control:checked~label.sk-toggleable__label-arrow:before {content: \"▾\";}#sk-container-id-1 div.sk-estimator input.sk-toggleable__control:checked~label.sk-toggleable__label {background-color: #d4ebff;}#sk-container-id-1 div.sk-label input.sk-toggleable__control:checked~label.sk-toggleable__label {background-color: #d4ebff;}#sk-container-id-1 input.sk-hidden--visually {border: 0;clip: rect(1px 1px 1px 1px);clip: rect(1px, 1px, 1px, 1px);height: 1px;margin: -1px;overflow: hidden;padding: 0;position: absolute;width: 1px;}#sk-container-id-1 div.sk-estimator {font-family: monospace;background-color: #f0f8ff;border: 1px dotted black;border-radius: 0.25em;box-sizing: border-box;margin-bottom: 0.5em;}#sk-container-id-1 div.sk-estimator:hover {background-color: #d4ebff;}#sk-container-id-1 div.sk-parallel-item::after {content: \"\";width: 100%;border-bottom: 1px solid gray;flex-grow: 1;}#sk-container-id-1 div.sk-label:hover label.sk-toggleable__label {background-color: #d4ebff;}#sk-container-id-1 div.sk-serial::before {content: \"\";position: absolute;border-left: 1px solid gray;box-sizing: border-box;top: 0;bottom: 0;left: 50%;z-index: 0;}#sk-container-id-1 div.sk-serial {display: flex;flex-direction: column;align-items: center;background-color: white;padding-right: 0.2em;padding-left: 0.2em;position: relative;}#sk-container-id-1 div.sk-item {position: relative;z-index: 1;}#sk-container-id-1 div.sk-parallel {display: flex;align-items: stretch;justify-content: center;background-color: white;position: relative;}#sk-container-id-1 div.sk-item::before, #sk-container-id-1 div.sk-parallel-item::before {content: \"\";position: absolute;border-left: 1px solid gray;box-sizing: border-box;top: 0;bottom: 0;left: 50%;z-index: -1;}#sk-container-id-1 div.sk-parallel-item {display: flex;flex-direction: column;z-index: 1;position: relative;background-color: white;}#sk-container-id-1 div.sk-parallel-item:first-child::after {align-self: flex-end;width: 50%;}#sk-container-id-1 div.sk-parallel-item:last-child::after {align-self: flex-start;width: 50%;}#sk-container-id-1 div.sk-parallel-item:only-child::after {width: 0;}#sk-container-id-1 div.sk-dashed-wrapped {border: 1px dashed gray;margin: 0 0.4em 0.5em 0.4em;box-sizing: border-box;padding-bottom: 0.4em;background-color: white;}#sk-container-id-1 div.sk-label label {font-family: monospace;font-weight: bold;display: inline-block;line-height: 1.2em;}#sk-container-id-1 div.sk-label-container {text-align: center;}#sk-container-id-1 div.sk-container {/* jupyter's `normalize.less` sets `[hidden] { display: none; }` but bootstrap.min.css set `[hidden] { display: none !important; }` so we also need the `!important` here to be able to override the default hidden behavior on the sphinx rendered scikit-learn.org. See: https://github.com/scikit-learn/scikit-learn/issues/21755 */display: inline-block !important;position: relative;}#sk-container-id-1 div.sk-text-repr-fallback {display: none;}</style><div id=\"sk-container-id-1\" class=\"sk-top-container\"><div class=\"sk-text-repr-fallback\"><pre>RandomForestClassifier()</pre><b>In a Jupyter environment, please rerun this cell to show the HTML representation or trust the notebook. <br />On GitHub, the HTML representation is unable to render, please try loading this page with nbviewer.org.</b></div><div class=\"sk-container\" hidden><div class=\"sk-item\"><div class=\"sk-estimator sk-toggleable\"><input class=\"sk-toggleable__control sk-hidden--visually\" id=\"sk-estimator-id-1\" type=\"checkbox\" checked><label for=\"sk-estimator-id-1\" class=\"sk-toggleable__label sk-toggleable__label-arrow\">RandomForestClassifier</label><div class=\"sk-toggleable__content\"><pre>RandomForestClassifier()</pre></div></div></div></div></div>"
      ],
      "text/plain": [
       "RandomForestClassifier()"
      ]
     },
     "execution_count": 14,
     "metadata": {},
     "output_type": "execute_result"
    }
   ],
   "source": [
    "RandomForestClassifier.fit(X_train,y_train)"
   ]
  },
  {
   "cell_type": "code",
   "execution_count": 15,
   "metadata": {},
   "outputs": [],
   "source": [
    "prediction_RandomForestClassifier = RandomForestClassifier.predict(X_test)"
   ]
  },
  {
   "cell_type": "code",
   "execution_count": 16,
   "metadata": {},
   "outputs": [],
   "source": [
    "from sklearn.metrics import accuracy_score"
   ]
  },
  {
   "cell_type": "code",
   "execution_count": 17,
   "metadata": {},
   "outputs": [
    {
     "data": {
      "text/plain": [
       "0.9496336996336996"
      ]
     },
     "execution_count": 17,
     "metadata": {},
     "output_type": "execute_result"
    }
   ],
   "source": [
    "accuracy_score(y_test, prediction_RandomForestClassifier)"
   ]
  },
  {
   "cell_type": "code",
   "execution_count": 18,
   "metadata": {},
   "outputs": [],
   "source": [
    "prediction = RandomForestClassifier.predict(test_x)"
   ]
  },
  {
   "cell_type": "markdown",
   "metadata": {},
   "source": [
    "data = {\n",
    "    \"id\":range(2340),\n",
    "    \"Öbek İsmi\":prediction\n",
    "}\n",
    "submit14 = pd.DataFrame(data)\n",
    "submit14.set_index(\"id\",inplace=True)\n",
    "submit14.to_csv(\"C:/Users/MMMer/Desktop/MERVE/btkdatathon/submit14.csv\")"
   ]
  },
  {
   "cell_type": "code",
   "execution_count": 19,
   "metadata": {},
   "outputs": [],
   "source": [
    "data = {\n",
    "    \"id\":range(2340),\n",
    "    \"Öbek İsmi\":prediction\n",
    "}\n",
    "submit15 = pd.DataFrame(data)\n",
    "submit15.set_index(\"id\",inplace=True)\n",
    "submit15.to_csv(\"submit15.csv\")"
   ]
  }
 ],
 "metadata": {
  "kernelspec": {
   "display_name": "Python 3",
   "language": "python",
   "name": "python3"
  },
  "language_info": {
   "codemirror_mode": {
    "name": "ipython",
    "version": 3
   },
   "file_extension": ".py",
   "mimetype": "text/x-python",
   "name": "python",
   "nbconvert_exporter": "python",
   "pygments_lexer": "ipython3",
   "version": "3.11.5"
  },
  "orig_nbformat": 4
 },
 "nbformat": 4,
 "nbformat_minor": 2
}
