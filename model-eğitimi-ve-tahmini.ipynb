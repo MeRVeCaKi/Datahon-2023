{
 "cells": [
  {
   "cell_type": "code",
   "execution_count": 1,
   "metadata": {},
   "outputs": [],
   "source": [
    "import pandas as pd\n",
    "import numpy as np"
   ]
  },
  {
   "cell_type": "code",
   "execution_count": 2,
   "metadata": {},
   "outputs": [],
   "source": [
    "data_train = pd.read_csv(\"train.csv\")\n",
    "data_test_x = pd.read_csv(\"test_x.csv\")"
   ]
  },
  {
   "cell_type": "code",
   "execution_count": 3,
   "metadata": {},
   "outputs": [
    {
     "data": {
      "text/html": [
       "<div>\n",
       "<style scoped>\n",
       "    .dataframe tbody tr th:only-of-type {\n",
       "        vertical-align: middle;\n",
       "    }\n",
       "\n",
       "    .dataframe tbody tr th {\n",
       "        vertical-align: top;\n",
       "    }\n",
       "\n",
       "    .dataframe thead th {\n",
       "        text-align: right;\n",
       "    }\n",
       "</style>\n",
       "<table border=\"1\" class=\"dataframe\">\n",
       "  <thead>\n",
       "    <tr style=\"text-align: right;\">\n",
       "      <th></th>\n",
       "      <th>index</th>\n",
       "      <th>Cinsiyet</th>\n",
       "      <th>Yaş Grubu</th>\n",
       "      <th>Medeni Durum</th>\n",
       "      <th>Eğitim Düzeyi</th>\n",
       "      <th>İstihdam Durumu</th>\n",
       "      <th>Yıllık Ortalama Gelir</th>\n",
       "      <th>Yaşadığı Şehir</th>\n",
       "      <th>En Çok İlgilendiği Ürün Grubu</th>\n",
       "      <th>Yıllık Ortalama Satın Alım Miktarı</th>\n",
       "      <th>Yıllık Ortalama Sipariş Verilen Ürün Adedi</th>\n",
       "      <th>Eğitime Devam Etme Durumu</th>\n",
       "      <th>Öbek İsmi</th>\n",
       "      <th>Yıllık Ortalama Sepete Atılan Ürün Adedi</th>\n",
       "    </tr>\n",
       "  </thead>\n",
       "  <tbody>\n",
       "    <tr>\n",
       "      <th>0</th>\n",
       "      <td>0</td>\n",
       "      <td>Kadın</td>\n",
       "      <td>31-40</td>\n",
       "      <td>Bekar</td>\n",
       "      <td>Yüksek Lisans Mezunu</td>\n",
       "      <td>Düzenli ve Ücretli Bir İşi Var</td>\n",
       "      <td>748266.440879</td>\n",
       "      <td>Büyük Şehir</td>\n",
       "      <td>Elektronik ve Teknolojik Ürünler</td>\n",
       "      <td>32010.900881</td>\n",
       "      <td>37.310644</td>\n",
       "      <td>Etmiyor</td>\n",
       "      <td>obek_4</td>\n",
       "      <td>102.936904</td>\n",
       "    </tr>\n",
       "    <tr>\n",
       "      <th>1</th>\n",
       "      <td>1</td>\n",
       "      <td>Erkek</td>\n",
       "      <td>&gt;60</td>\n",
       "      <td>Evli</td>\n",
       "      <td>Lise Mezunu</td>\n",
       "      <td>Kendi İşinin Sahibi</td>\n",
       "      <td>246298.609605</td>\n",
       "      <td>Küçük Şehir</td>\n",
       "      <td>Spor Malzemeleri</td>\n",
       "      <td>4145.729891</td>\n",
       "      <td>11.554851</td>\n",
       "      <td>Etmiyor</td>\n",
       "      <td>obek_5</td>\n",
       "      <td>82.176053</td>\n",
       "    </tr>\n",
       "  </tbody>\n",
       "</table>\n",
       "</div>"
      ],
      "text/plain": [
       "   index Cinsiyet Yaş Grubu Medeni Durum         Eğitim Düzeyi  \\\n",
       "0      0    Kadın     31-40        Bekar  Yüksek Lisans Mezunu   \n",
       "1      1    Erkek       >60         Evli           Lise Mezunu   \n",
       "\n",
       "                  İstihdam Durumu  Yıllık Ortalama Gelir Yaşadığı Şehir  \\\n",
       "0  Düzenli ve Ücretli Bir İşi Var          748266.440879    Büyük Şehir   \n",
       "1             Kendi İşinin Sahibi          246298.609605    Küçük Şehir   \n",
       "\n",
       "      En Çok İlgilendiği Ürün Grubu  Yıllık Ortalama Satın Alım Miktarı  \\\n",
       "0  Elektronik ve Teknolojik Ürünler                        32010.900881   \n",
       "1                  Spor Malzemeleri                         4145.729891   \n",
       "\n",
       "   Yıllık Ortalama Sipariş Verilen Ürün Adedi Eğitime Devam Etme Durumu  \\\n",
       "0                                   37.310644                   Etmiyor   \n",
       "1                                   11.554851                   Etmiyor   \n",
       "\n",
       "  Öbek İsmi  Yıllık Ortalama Sepete Atılan Ürün Adedi  \n",
       "0    obek_4                                102.936904  \n",
       "1    obek_5                                 82.176053  "
      ]
     },
     "execution_count": 3,
     "metadata": {},
     "output_type": "execute_result"
    }
   ],
   "source": [
    "data_train.head(2)"
   ]
  },
  {
   "cell_type": "code",
   "execution_count": 4,
   "metadata": {},
   "outputs": [
    {
     "data": {
      "text/html": [
       "<div>\n",
       "<style scoped>\n",
       "    .dataframe tbody tr th:only-of-type {\n",
       "        vertical-align: middle;\n",
       "    }\n",
       "\n",
       "    .dataframe tbody tr th {\n",
       "        vertical-align: top;\n",
       "    }\n",
       "\n",
       "    .dataframe thead th {\n",
       "        text-align: right;\n",
       "    }\n",
       "</style>\n",
       "<table border=\"1\" class=\"dataframe\">\n",
       "  <thead>\n",
       "    <tr style=\"text-align: right;\">\n",
       "      <th></th>\n",
       "      <th>index</th>\n",
       "      <th>Cinsiyet</th>\n",
       "      <th>Yaş Grubu</th>\n",
       "      <th>Medeni Durum</th>\n",
       "      <th>Eğitim Düzeyi</th>\n",
       "      <th>İstihdam Durumu</th>\n",
       "      <th>Yıllık Ortalama Gelir</th>\n",
       "      <th>Yaşadığı Şehir</th>\n",
       "      <th>En Çok İlgilendiği Ürün Grubu</th>\n",
       "      <th>Yıllık Ortalama Satın Alım Miktarı</th>\n",
       "      <th>Yıllık Ortalama Sipariş Verilen Ürün Adedi</th>\n",
       "      <th>Eğitime Devam Etme Durumu</th>\n",
       "      <th>Yıllık Ortalama Sepete Atılan Ürün Adedi</th>\n",
       "    </tr>\n",
       "  </thead>\n",
       "  <tbody>\n",
       "    <tr>\n",
       "      <th>0</th>\n",
       "      <td>0</td>\n",
       "      <td>Erkek</td>\n",
       "      <td>51-60</td>\n",
       "      <td>Evli</td>\n",
       "      <td>Yüksek Lisans Mezunu</td>\n",
       "      <td>Düzenli ve Ücretli Bir İşi Var</td>\n",
       "      <td>365331.930346</td>\n",
       "      <td>Köy veya Kasaba</td>\n",
       "      <td>Giyim</td>\n",
       "      <td>5566.587664</td>\n",
       "      <td>15.442635</td>\n",
       "      <td>Etmiyor</td>\n",
       "      <td>19.646460</td>\n",
       "    </tr>\n",
       "    <tr>\n",
       "      <th>1</th>\n",
       "      <td>1</td>\n",
       "      <td>Erkek</td>\n",
       "      <td>41-50</td>\n",
       "      <td>Bekar</td>\n",
       "      <td>Lise Mezunu</td>\n",
       "      <td>İşsiz veya Düzenli Bir İşi Yok</td>\n",
       "      <td>414899.236174</td>\n",
       "      <td>Büyük Şehir</td>\n",
       "      <td>Spor Malzemeleri</td>\n",
       "      <td>6756.766203</td>\n",
       "      <td>14.957246</td>\n",
       "      <td>Etmiyor</td>\n",
       "      <td>19.675863</td>\n",
       "    </tr>\n",
       "  </tbody>\n",
       "</table>\n",
       "</div>"
      ],
      "text/plain": [
       "   index Cinsiyet Yaş Grubu Medeni Durum         Eğitim Düzeyi  \\\n",
       "0      0    Erkek     51-60         Evli  Yüksek Lisans Mezunu   \n",
       "1      1    Erkek     41-50        Bekar           Lise Mezunu   \n",
       "\n",
       "                  İstihdam Durumu  Yıllık Ortalama Gelir   Yaşadığı Şehir  \\\n",
       "0  Düzenli ve Ücretli Bir İşi Var          365331.930346  Köy veya Kasaba   \n",
       "1  İşsiz veya Düzenli Bir İşi Yok          414899.236174      Büyük Şehir   \n",
       "\n",
       "  En Çok İlgilendiği Ürün Grubu  Yıllık Ortalama Satın Alım Miktarı  \\\n",
       "0                         Giyim                         5566.587664   \n",
       "1              Spor Malzemeleri                         6756.766203   \n",
       "\n",
       "   Yıllık Ortalama Sipariş Verilen Ürün Adedi Eğitime Devam Etme Durumu  \\\n",
       "0                                   15.442635                   Etmiyor   \n",
       "1                                   14.957246                   Etmiyor   \n",
       "\n",
       "   Yıllık Ortalama Sepete Atılan Ürün Adedi  \n",
       "0                                 19.646460  \n",
       "1                                 19.675863  "
      ]
     },
     "execution_count": 4,
     "metadata": {},
     "output_type": "execute_result"
    }
   ],
   "source": [
    "data_test_x.head(2)"
   ]
  },
  {
   "cell_type": "code",
   "execution_count": 5,
   "metadata": {},
   "outputs": [
    {
     "name": "stdout",
     "output_type": "stream",
     "text": [
      "<class 'pandas.core.frame.DataFrame'>\n",
      "RangeIndex: 5460 entries, 0 to 5459\n",
      "Data columns (total 14 columns):\n",
      " #   Column                                      Non-Null Count  Dtype  \n",
      "---  ------                                      --------------  -----  \n",
      " 0   index                                       5460 non-null   int64  \n",
      " 1   Cinsiyet                                    5460 non-null   object \n",
      " 2   Yaş Grubu                                   5460 non-null   object \n",
      " 3   Medeni Durum                                5460 non-null   object \n",
      " 4   Eğitim Düzeyi                               5460 non-null   object \n",
      " 5   İstihdam Durumu                             5460 non-null   object \n",
      " 6   Yıllık Ortalama Gelir                       5460 non-null   float64\n",
      " 7   Yaşadığı Şehir                              5460 non-null   object \n",
      " 8   En Çok İlgilendiği Ürün Grubu               5460 non-null   object \n",
      " 9   Yıllık Ortalama Satın Alım Miktarı          5460 non-null   float64\n",
      " 10  Yıllık Ortalama Sipariş Verilen Ürün Adedi  5460 non-null   float64\n",
      " 11  Eğitime Devam Etme Durumu                   5460 non-null   object \n",
      " 12  Öbek İsmi                                   5460 non-null   object \n",
      " 13  Yıllık Ortalama Sepete Atılan Ürün Adedi    5460 non-null   float64\n",
      "dtypes: float64(4), int64(1), object(9)\n",
      "memory usage: 597.3+ KB\n"
     ]
    }
   ],
   "source": [
    "data_train.info()"
   ]
  },
  {
   "cell_type": "code",
   "execution_count": 6,
   "metadata": {},
   "outputs": [
    {
     "name": "stdout",
     "output_type": "stream",
     "text": [
      "<class 'pandas.core.frame.DataFrame'>\n",
      "RangeIndex: 2340 entries, 0 to 2339\n",
      "Data columns (total 13 columns):\n",
      " #   Column                                      Non-Null Count  Dtype  \n",
      "---  ------                                      --------------  -----  \n",
      " 0   index                                       2340 non-null   int64  \n",
      " 1   Cinsiyet                                    2340 non-null   object \n",
      " 2   Yaş Grubu                                   2340 non-null   object \n",
      " 3   Medeni Durum                                2340 non-null   object \n",
      " 4   Eğitim Düzeyi                               2340 non-null   object \n",
      " 5   İstihdam Durumu                             2340 non-null   object \n",
      " 6   Yıllık Ortalama Gelir                       2340 non-null   float64\n",
      " 7   Yaşadığı Şehir                              2340 non-null   object \n",
      " 8   En Çok İlgilendiği Ürün Grubu               2340 non-null   object \n",
      " 9   Yıllık Ortalama Satın Alım Miktarı          2340 non-null   float64\n",
      " 10  Yıllık Ortalama Sipariş Verilen Ürün Adedi  2340 non-null   float64\n",
      " 11  Eğitime Devam Etme Durumu                   2340 non-null   object \n",
      " 12  Yıllık Ortalama Sepete Atılan Ürün Adedi    2340 non-null   float64\n",
      "dtypes: float64(4), int64(1), object(8)\n",
      "memory usage: 237.8+ KB\n"
     ]
    }
   ],
   "source": [
    "data_test_x.info()"
   ]
  },
  {
   "cell_type": "code",
   "execution_count": 7,
   "metadata": {},
   "outputs": [],
   "source": [
    "data_train = data_train.drop(\"index\",axis=1)\n",
    "data_test_x = data_test_x.drop(\"index\",axis=1)"
   ]
  },
  {
   "cell_type": "code",
   "execution_count": 8,
   "metadata": {},
   "outputs": [
    {
     "data": {
      "text/html": [
       "<div>\n",
       "<style scoped>\n",
       "    .dataframe tbody tr th:only-of-type {\n",
       "        vertical-align: middle;\n",
       "    }\n",
       "\n",
       "    .dataframe tbody tr th {\n",
       "        vertical-align: top;\n",
       "    }\n",
       "\n",
       "    .dataframe thead th {\n",
       "        text-align: right;\n",
       "    }\n",
       "</style>\n",
       "<table border=\"1\" class=\"dataframe\">\n",
       "  <thead>\n",
       "    <tr style=\"text-align: right;\">\n",
       "      <th></th>\n",
       "      <th>Cinsiyet</th>\n",
       "      <th>Yaş Grubu</th>\n",
       "      <th>Medeni Durum</th>\n",
       "      <th>Eğitim Düzeyi</th>\n",
       "      <th>İstihdam Durumu</th>\n",
       "      <th>Yıllık Ortalama Gelir</th>\n",
       "      <th>Yaşadığı Şehir</th>\n",
       "      <th>En Çok İlgilendiği Ürün Grubu</th>\n",
       "      <th>Yıllık Ortalama Satın Alım Miktarı</th>\n",
       "      <th>Yıllık Ortalama Sipariş Verilen Ürün Adedi</th>\n",
       "      <th>Eğitime Devam Etme Durumu</th>\n",
       "      <th>Öbek İsmi</th>\n",
       "      <th>Yıllık Ortalama Sepete Atılan Ürün Adedi</th>\n",
       "    </tr>\n",
       "  </thead>\n",
       "  <tbody>\n",
       "    <tr>\n",
       "      <th>0</th>\n",
       "      <td>Kadın</td>\n",
       "      <td>31-40</td>\n",
       "      <td>Bekar</td>\n",
       "      <td>Yüksek Lisans Mezunu</td>\n",
       "      <td>Düzenli ve Ücretli Bir İşi Var</td>\n",
       "      <td>748266.440879</td>\n",
       "      <td>Büyük Şehir</td>\n",
       "      <td>Elektronik ve Teknolojik Ürünler</td>\n",
       "      <td>32010.900881</td>\n",
       "      <td>37.310644</td>\n",
       "      <td>Etmiyor</td>\n",
       "      <td>obek_4</td>\n",
       "      <td>102.936904</td>\n",
       "    </tr>\n",
       "    <tr>\n",
       "      <th>1</th>\n",
       "      <td>Erkek</td>\n",
       "      <td>&gt;60</td>\n",
       "      <td>Evli</td>\n",
       "      <td>Lise Mezunu</td>\n",
       "      <td>Kendi İşinin Sahibi</td>\n",
       "      <td>246298.609605</td>\n",
       "      <td>Küçük Şehir</td>\n",
       "      <td>Spor Malzemeleri</td>\n",
       "      <td>4145.729891</td>\n",
       "      <td>11.554851</td>\n",
       "      <td>Etmiyor</td>\n",
       "      <td>obek_5</td>\n",
       "      <td>82.176053</td>\n",
       "    </tr>\n",
       "  </tbody>\n",
       "</table>\n",
       "</div>"
      ],
      "text/plain": [
       "  Cinsiyet Yaş Grubu Medeni Durum         Eğitim Düzeyi  \\\n",
       "0    Kadın     31-40        Bekar  Yüksek Lisans Mezunu   \n",
       "1    Erkek       >60         Evli           Lise Mezunu   \n",
       "\n",
       "                  İstihdam Durumu  Yıllık Ortalama Gelir Yaşadığı Şehir  \\\n",
       "0  Düzenli ve Ücretli Bir İşi Var          748266.440879    Büyük Şehir   \n",
       "1             Kendi İşinin Sahibi          246298.609605    Küçük Şehir   \n",
       "\n",
       "      En Çok İlgilendiği Ürün Grubu  Yıllık Ortalama Satın Alım Miktarı  \\\n",
       "0  Elektronik ve Teknolojik Ürünler                        32010.900881   \n",
       "1                  Spor Malzemeleri                         4145.729891   \n",
       "\n",
       "   Yıllık Ortalama Sipariş Verilen Ürün Adedi Eğitime Devam Etme Durumu  \\\n",
       "0                                   37.310644                   Etmiyor   \n",
       "1                                   11.554851                   Etmiyor   \n",
       "\n",
       "  Öbek İsmi  Yıllık Ortalama Sepete Atılan Ürün Adedi  \n",
       "0    obek_4                                102.936904  \n",
       "1    obek_5                                 82.176053  "
      ]
     },
     "execution_count": 8,
     "metadata": {},
     "output_type": "execute_result"
    }
   ],
   "source": [
    "data_train.head(2)"
   ]
  },
  {
   "cell_type": "code",
   "execution_count": 9,
   "metadata": {},
   "outputs": [
    {
     "data": {
      "text/html": [
       "<div>\n",
       "<style scoped>\n",
       "    .dataframe tbody tr th:only-of-type {\n",
       "        vertical-align: middle;\n",
       "    }\n",
       "\n",
       "    .dataframe tbody tr th {\n",
       "        vertical-align: top;\n",
       "    }\n",
       "\n",
       "    .dataframe thead th {\n",
       "        text-align: right;\n",
       "    }\n",
       "</style>\n",
       "<table border=\"1\" class=\"dataframe\">\n",
       "  <thead>\n",
       "    <tr style=\"text-align: right;\">\n",
       "      <th></th>\n",
       "      <th>Cinsiyet</th>\n",
       "      <th>Yaş Grubu</th>\n",
       "      <th>Medeni Durum</th>\n",
       "      <th>Eğitim Düzeyi</th>\n",
       "      <th>İstihdam Durumu</th>\n",
       "      <th>Yıllık Ortalama Gelir</th>\n",
       "      <th>Yaşadığı Şehir</th>\n",
       "      <th>En Çok İlgilendiği Ürün Grubu</th>\n",
       "      <th>Yıllık Ortalama Satın Alım Miktarı</th>\n",
       "      <th>Yıllık Ortalama Sipariş Verilen Ürün Adedi</th>\n",
       "      <th>Eğitime Devam Etme Durumu</th>\n",
       "      <th>Yıllık Ortalama Sepete Atılan Ürün Adedi</th>\n",
       "    </tr>\n",
       "  </thead>\n",
       "  <tbody>\n",
       "    <tr>\n",
       "      <th>0</th>\n",
       "      <td>Erkek</td>\n",
       "      <td>51-60</td>\n",
       "      <td>Evli</td>\n",
       "      <td>Yüksek Lisans Mezunu</td>\n",
       "      <td>Düzenli ve Ücretli Bir İşi Var</td>\n",
       "      <td>365331.930346</td>\n",
       "      <td>Köy veya Kasaba</td>\n",
       "      <td>Giyim</td>\n",
       "      <td>5566.587664</td>\n",
       "      <td>15.442635</td>\n",
       "      <td>Etmiyor</td>\n",
       "      <td>19.646460</td>\n",
       "    </tr>\n",
       "    <tr>\n",
       "      <th>1</th>\n",
       "      <td>Erkek</td>\n",
       "      <td>41-50</td>\n",
       "      <td>Bekar</td>\n",
       "      <td>Lise Mezunu</td>\n",
       "      <td>İşsiz veya Düzenli Bir İşi Yok</td>\n",
       "      <td>414899.236174</td>\n",
       "      <td>Büyük Şehir</td>\n",
       "      <td>Spor Malzemeleri</td>\n",
       "      <td>6756.766203</td>\n",
       "      <td>14.957246</td>\n",
       "      <td>Etmiyor</td>\n",
       "      <td>19.675863</td>\n",
       "    </tr>\n",
       "  </tbody>\n",
       "</table>\n",
       "</div>"
      ],
      "text/plain": [
       "  Cinsiyet Yaş Grubu Medeni Durum         Eğitim Düzeyi  \\\n",
       "0    Erkek     51-60         Evli  Yüksek Lisans Mezunu   \n",
       "1    Erkek     41-50        Bekar           Lise Mezunu   \n",
       "\n",
       "                  İstihdam Durumu  Yıllık Ortalama Gelir   Yaşadığı Şehir  \\\n",
       "0  Düzenli ve Ücretli Bir İşi Var          365331.930346  Köy veya Kasaba   \n",
       "1  İşsiz veya Düzenli Bir İşi Yok          414899.236174      Büyük Şehir   \n",
       "\n",
       "  En Çok İlgilendiği Ürün Grubu  Yıllık Ortalama Satın Alım Miktarı  \\\n",
       "0                         Giyim                         5566.587664   \n",
       "1              Spor Malzemeleri                         6756.766203   \n",
       "\n",
       "   Yıllık Ortalama Sipariş Verilen Ürün Adedi Eğitime Devam Etme Durumu  \\\n",
       "0                                   15.442635                   Etmiyor   \n",
       "1                                   14.957246                   Etmiyor   \n",
       "\n",
       "   Yıllık Ortalama Sepete Atılan Ürün Adedi  \n",
       "0                                 19.646460  \n",
       "1                                 19.675863  "
      ]
     },
     "execution_count": 9,
     "metadata": {},
     "output_type": "execute_result"
    }
   ],
   "source": [
    "data_test_x.head(2)"
   ]
  },
  {
   "cell_type": "code",
   "execution_count": 10,
   "metadata": {},
   "outputs": [],
   "source": [
    "data_train[[\"Yaş Aralığı Başlangıcı\",\"Yaş Aralığı Bitişi\"]] = data_train[\"Yaş Grubu\"].str.split(\"-\",expand=True)\n",
    "data_train[\"Yaş Aralığı Başlangıcı\"] = data_train[\"Yaş Aralığı Başlangıcı\"].str.strip(\">\")\n",
    "data_train[\"Yaş Aralığı Bitişi\"] = data_train[\"Yaş Aralığı Bitişi\"].fillna(115)\n",
    "data_train = data_train.drop(\"Yaş Grubu\",axis=1)\n",
    "data_train[\"Yaş Aralığı Başlangıcı\"] = data_train[\"Yaş Aralığı Başlangıcı\"].astype(int)\n",
    "data_train[\"Yaş Aralığı Bitişi\"] = data_train[\"Yaş Aralığı Bitişi\"].astype(int)"
   ]
  },
  {
   "cell_type": "code",
   "execution_count": 11,
   "metadata": {},
   "outputs": [],
   "source": [
    "data_test_x[[\"Yaş Aralığı Başlangıcı\",\"Yaş Aralığı Bitişi\"]] = data_test_x[\"Yaş Grubu\"].str.split(\"-\",expand=True)\n",
    "data_test_x[\"Yaş Aralığı Başlangıcı\"] = data_test_x[\"Yaş Aralığı Başlangıcı\"].str.strip(\">\")\n",
    "data_test_x[\"Yaş Aralığı Bitişi\"] = data_test_x[\"Yaş Aralığı Bitişi\"].fillna(115)\n",
    "data_test_x = data_test_x.drop(\"Yaş Grubu\",axis=1)\n",
    "data_test_x[\"Yaş Aralığı Başlangıcı\"] = data_test_x[\"Yaş Aralığı Başlangıcı\"].astype(int)\n",
    "data_test_x[\"Yaş Aralığı Bitişi\"] = data_test_x[\"Yaş Aralığı Bitişi\"].astype(int)"
   ]
  },
  {
   "cell_type": "code",
   "execution_count": 12,
   "metadata": {},
   "outputs": [
    {
     "data": {
      "text/html": [
       "<div>\n",
       "<style scoped>\n",
       "    .dataframe tbody tr th:only-of-type {\n",
       "        vertical-align: middle;\n",
       "    }\n",
       "\n",
       "    .dataframe tbody tr th {\n",
       "        vertical-align: top;\n",
       "    }\n",
       "\n",
       "    .dataframe thead th {\n",
       "        text-align: right;\n",
       "    }\n",
       "</style>\n",
       "<table border=\"1\" class=\"dataframe\">\n",
       "  <thead>\n",
       "    <tr style=\"text-align: right;\">\n",
       "      <th></th>\n",
       "      <th>Cinsiyet</th>\n",
       "      <th>Medeni Durum</th>\n",
       "      <th>Eğitim Düzeyi</th>\n",
       "      <th>İstihdam Durumu</th>\n",
       "      <th>Yıllık Ortalama Gelir</th>\n",
       "      <th>Yaşadığı Şehir</th>\n",
       "      <th>En Çok İlgilendiği Ürün Grubu</th>\n",
       "      <th>Yıllık Ortalama Satın Alım Miktarı</th>\n",
       "      <th>Yıllık Ortalama Sipariş Verilen Ürün Adedi</th>\n",
       "      <th>Eğitime Devam Etme Durumu</th>\n",
       "      <th>Öbek İsmi</th>\n",
       "      <th>Yıllık Ortalama Sepete Atılan Ürün Adedi</th>\n",
       "      <th>Yaş Aralığı Başlangıcı</th>\n",
       "      <th>Yaş Aralığı Bitişi</th>\n",
       "    </tr>\n",
       "  </thead>\n",
       "  <tbody>\n",
       "    <tr>\n",
       "      <th>0</th>\n",
       "      <td>Kadın</td>\n",
       "      <td>Bekar</td>\n",
       "      <td>Yüksek Lisans Mezunu</td>\n",
       "      <td>Düzenli ve Ücretli Bir İşi Var</td>\n",
       "      <td>748266.440879</td>\n",
       "      <td>Büyük Şehir</td>\n",
       "      <td>Elektronik ve Teknolojik Ürünler</td>\n",
       "      <td>32010.900881</td>\n",
       "      <td>37.310644</td>\n",
       "      <td>Etmiyor</td>\n",
       "      <td>obek_4</td>\n",
       "      <td>102.936904</td>\n",
       "      <td>31</td>\n",
       "      <td>40</td>\n",
       "    </tr>\n",
       "    <tr>\n",
       "      <th>1</th>\n",
       "      <td>Erkek</td>\n",
       "      <td>Evli</td>\n",
       "      <td>Lise Mezunu</td>\n",
       "      <td>Kendi İşinin Sahibi</td>\n",
       "      <td>246298.609605</td>\n",
       "      <td>Küçük Şehir</td>\n",
       "      <td>Spor Malzemeleri</td>\n",
       "      <td>4145.729891</td>\n",
       "      <td>11.554851</td>\n",
       "      <td>Etmiyor</td>\n",
       "      <td>obek_5</td>\n",
       "      <td>82.176053</td>\n",
       "      <td>60</td>\n",
       "      <td>115</td>\n",
       "    </tr>\n",
       "  </tbody>\n",
       "</table>\n",
       "</div>"
      ],
      "text/plain": [
       "  Cinsiyet Medeni Durum         Eğitim Düzeyi                 İstihdam Durumu  \\\n",
       "0    Kadın        Bekar  Yüksek Lisans Mezunu  Düzenli ve Ücretli Bir İşi Var   \n",
       "1    Erkek         Evli           Lise Mezunu             Kendi İşinin Sahibi   \n",
       "\n",
       "   Yıllık Ortalama Gelir Yaşadığı Şehir     En Çok İlgilendiği Ürün Grubu  \\\n",
       "0          748266.440879    Büyük Şehir  Elektronik ve Teknolojik Ürünler   \n",
       "1          246298.609605    Küçük Şehir                  Spor Malzemeleri   \n",
       "\n",
       "   Yıllık Ortalama Satın Alım Miktarı  \\\n",
       "0                        32010.900881   \n",
       "1                         4145.729891   \n",
       "\n",
       "   Yıllık Ortalama Sipariş Verilen Ürün Adedi Eğitime Devam Etme Durumu  \\\n",
       "0                                   37.310644                   Etmiyor   \n",
       "1                                   11.554851                   Etmiyor   \n",
       "\n",
       "  Öbek İsmi  Yıllık Ortalama Sepete Atılan Ürün Adedi  Yaş Aralığı Başlangıcı  \\\n",
       "0    obek_4                                102.936904                      31   \n",
       "1    obek_5                                 82.176053                      60   \n",
       "\n",
       "   Yaş Aralığı Bitişi  \n",
       "0                  40  \n",
       "1                 115  "
      ]
     },
     "execution_count": 12,
     "metadata": {},
     "output_type": "execute_result"
    }
   ],
   "source": [
    "data_train.head(2)"
   ]
  },
  {
   "cell_type": "code",
   "execution_count": 13,
   "metadata": {},
   "outputs": [
    {
     "data": {
      "text/html": [
       "<div>\n",
       "<style scoped>\n",
       "    .dataframe tbody tr th:only-of-type {\n",
       "        vertical-align: middle;\n",
       "    }\n",
       "\n",
       "    .dataframe tbody tr th {\n",
       "        vertical-align: top;\n",
       "    }\n",
       "\n",
       "    .dataframe thead th {\n",
       "        text-align: right;\n",
       "    }\n",
       "</style>\n",
       "<table border=\"1\" class=\"dataframe\">\n",
       "  <thead>\n",
       "    <tr style=\"text-align: right;\">\n",
       "      <th></th>\n",
       "      <th>Cinsiyet</th>\n",
       "      <th>Medeni Durum</th>\n",
       "      <th>Eğitim Düzeyi</th>\n",
       "      <th>İstihdam Durumu</th>\n",
       "      <th>Yıllık Ortalama Gelir</th>\n",
       "      <th>Yaşadığı Şehir</th>\n",
       "      <th>En Çok İlgilendiği Ürün Grubu</th>\n",
       "      <th>Yıllık Ortalama Satın Alım Miktarı</th>\n",
       "      <th>Yıllık Ortalama Sipariş Verilen Ürün Adedi</th>\n",
       "      <th>Eğitime Devam Etme Durumu</th>\n",
       "      <th>Yıllık Ortalama Sepete Atılan Ürün Adedi</th>\n",
       "      <th>Yaş Aralığı Başlangıcı</th>\n",
       "      <th>Yaş Aralığı Bitişi</th>\n",
       "    </tr>\n",
       "  </thead>\n",
       "  <tbody>\n",
       "    <tr>\n",
       "      <th>0</th>\n",
       "      <td>Erkek</td>\n",
       "      <td>Evli</td>\n",
       "      <td>Yüksek Lisans Mezunu</td>\n",
       "      <td>Düzenli ve Ücretli Bir İşi Var</td>\n",
       "      <td>365331.930346</td>\n",
       "      <td>Köy veya Kasaba</td>\n",
       "      <td>Giyim</td>\n",
       "      <td>5566.587664</td>\n",
       "      <td>15.442635</td>\n",
       "      <td>Etmiyor</td>\n",
       "      <td>19.646460</td>\n",
       "      <td>51</td>\n",
       "      <td>60</td>\n",
       "    </tr>\n",
       "    <tr>\n",
       "      <th>1</th>\n",
       "      <td>Erkek</td>\n",
       "      <td>Bekar</td>\n",
       "      <td>Lise Mezunu</td>\n",
       "      <td>İşsiz veya Düzenli Bir İşi Yok</td>\n",
       "      <td>414899.236174</td>\n",
       "      <td>Büyük Şehir</td>\n",
       "      <td>Spor Malzemeleri</td>\n",
       "      <td>6756.766203</td>\n",
       "      <td>14.957246</td>\n",
       "      <td>Etmiyor</td>\n",
       "      <td>19.675863</td>\n",
       "      <td>41</td>\n",
       "      <td>50</td>\n",
       "    </tr>\n",
       "  </tbody>\n",
       "</table>\n",
       "</div>"
      ],
      "text/plain": [
       "  Cinsiyet Medeni Durum         Eğitim Düzeyi                 İstihdam Durumu  \\\n",
       "0    Erkek         Evli  Yüksek Lisans Mezunu  Düzenli ve Ücretli Bir İşi Var   \n",
       "1    Erkek        Bekar           Lise Mezunu  İşsiz veya Düzenli Bir İşi Yok   \n",
       "\n",
       "   Yıllık Ortalama Gelir   Yaşadığı Şehir En Çok İlgilendiği Ürün Grubu  \\\n",
       "0          365331.930346  Köy veya Kasaba                         Giyim   \n",
       "1          414899.236174      Büyük Şehir              Spor Malzemeleri   \n",
       "\n",
       "   Yıllık Ortalama Satın Alım Miktarı  \\\n",
       "0                         5566.587664   \n",
       "1                         6756.766203   \n",
       "\n",
       "   Yıllık Ortalama Sipariş Verilen Ürün Adedi Eğitime Devam Etme Durumu  \\\n",
       "0                                   15.442635                   Etmiyor   \n",
       "1                                   14.957246                   Etmiyor   \n",
       "\n",
       "   Yıllık Ortalama Sepete Atılan Ürün Adedi  Yaş Aralığı Başlangıcı  \\\n",
       "0                                 19.646460                      51   \n",
       "1                                 19.675863                      41   \n",
       "\n",
       "   Yaş Aralığı Bitişi  \n",
       "0                  60  \n",
       "1                  50  "
      ]
     },
     "execution_count": 13,
     "metadata": {},
     "output_type": "execute_result"
    }
   ],
   "source": [
    "data_test_x.head(2)"
   ]
  },
  {
   "cell_type": "code",
   "execution_count": 14,
   "metadata": {},
   "outputs": [],
   "source": [
    "data_train[\"Cinsiyet\"] = data_train[\"Cinsiyet\"].apply(lambda x:1 if x == \"Kadın\" else 0)\n",
    "data_train[\"Medeni Durum\"] = data_train[\"Medeni Durum\"].apply(lambda x:1 if x == \"Bekar\" else 0)\n",
    "data_train[\"Eğitime Devam Etme Durumu\"] = data_train[\"Eğitime Devam Etme Durumu\"].apply(lambda x:1 if x == \"Ediyor\" else 0)"
   ]
  },
  {
   "cell_type": "code",
   "execution_count": 15,
   "metadata": {},
   "outputs": [],
   "source": [
    "data_test_x[\"Cinsiyet\"] = data_test_x[\"Cinsiyet\"].apply(lambda x:1 if x == \"Kadın\" else 0)\n",
    "data_test_x[\"Medeni Durum\"] = data_test_x[\"Medeni Durum\"].apply(lambda x:1 if x == \"Bekar\" else 0)\n",
    "data_test_x[\"Eğitime Devam Etme Durumu\"] = data_test_x[\"Eğitime Devam Etme Durumu\"].apply(lambda x:1 if x == \"Ediyor\" else 0)"
   ]
  },
  {
   "cell_type": "code",
   "execution_count": 16,
   "metadata": {},
   "outputs": [
    {
     "data": {
      "text/html": [
       "<div>\n",
       "<style scoped>\n",
       "    .dataframe tbody tr th:only-of-type {\n",
       "        vertical-align: middle;\n",
       "    }\n",
       "\n",
       "    .dataframe tbody tr th {\n",
       "        vertical-align: top;\n",
       "    }\n",
       "\n",
       "    .dataframe thead th {\n",
       "        text-align: right;\n",
       "    }\n",
       "</style>\n",
       "<table border=\"1\" class=\"dataframe\">\n",
       "  <thead>\n",
       "    <tr style=\"text-align: right;\">\n",
       "      <th></th>\n",
       "      <th>Cinsiyet</th>\n",
       "      <th>Medeni Durum</th>\n",
       "      <th>Eğitim Düzeyi</th>\n",
       "      <th>İstihdam Durumu</th>\n",
       "      <th>Yıllık Ortalama Gelir</th>\n",
       "      <th>Yaşadığı Şehir</th>\n",
       "      <th>En Çok İlgilendiği Ürün Grubu</th>\n",
       "      <th>Yıllık Ortalama Satın Alım Miktarı</th>\n",
       "      <th>Yıllık Ortalama Sipariş Verilen Ürün Adedi</th>\n",
       "      <th>Eğitime Devam Etme Durumu</th>\n",
       "      <th>Öbek İsmi</th>\n",
       "      <th>Yıllık Ortalama Sepete Atılan Ürün Adedi</th>\n",
       "      <th>Yaş Aralığı Başlangıcı</th>\n",
       "      <th>Yaş Aralığı Bitişi</th>\n",
       "    </tr>\n",
       "  </thead>\n",
       "  <tbody>\n",
       "    <tr>\n",
       "      <th>0</th>\n",
       "      <td>1</td>\n",
       "      <td>1</td>\n",
       "      <td>Yüksek Lisans Mezunu</td>\n",
       "      <td>Düzenli ve Ücretli Bir İşi Var</td>\n",
       "      <td>748266.440879</td>\n",
       "      <td>Büyük Şehir</td>\n",
       "      <td>Elektronik ve Teknolojik Ürünler</td>\n",
       "      <td>32010.900881</td>\n",
       "      <td>37.310644</td>\n",
       "      <td>0</td>\n",
       "      <td>obek_4</td>\n",
       "      <td>102.936904</td>\n",
       "      <td>31</td>\n",
       "      <td>40</td>\n",
       "    </tr>\n",
       "    <tr>\n",
       "      <th>1</th>\n",
       "      <td>0</td>\n",
       "      <td>0</td>\n",
       "      <td>Lise Mezunu</td>\n",
       "      <td>Kendi İşinin Sahibi</td>\n",
       "      <td>246298.609605</td>\n",
       "      <td>Küçük Şehir</td>\n",
       "      <td>Spor Malzemeleri</td>\n",
       "      <td>4145.729891</td>\n",
       "      <td>11.554851</td>\n",
       "      <td>0</td>\n",
       "      <td>obek_5</td>\n",
       "      <td>82.176053</td>\n",
       "      <td>60</td>\n",
       "      <td>115</td>\n",
       "    </tr>\n",
       "  </tbody>\n",
       "</table>\n",
       "</div>"
      ],
      "text/plain": [
       "   Cinsiyet  Medeni Durum         Eğitim Düzeyi  \\\n",
       "0         1             1  Yüksek Lisans Mezunu   \n",
       "1         0             0           Lise Mezunu   \n",
       "\n",
       "                  İstihdam Durumu  Yıllık Ortalama Gelir Yaşadığı Şehir  \\\n",
       "0  Düzenli ve Ücretli Bir İşi Var          748266.440879    Büyük Şehir   \n",
       "1             Kendi İşinin Sahibi          246298.609605    Küçük Şehir   \n",
       "\n",
       "      En Çok İlgilendiği Ürün Grubu  Yıllık Ortalama Satın Alım Miktarı  \\\n",
       "0  Elektronik ve Teknolojik Ürünler                        32010.900881   \n",
       "1                  Spor Malzemeleri                         4145.729891   \n",
       "\n",
       "   Yıllık Ortalama Sipariş Verilen Ürün Adedi  Eğitime Devam Etme Durumu  \\\n",
       "0                                   37.310644                          0   \n",
       "1                                   11.554851                          0   \n",
       "\n",
       "  Öbek İsmi  Yıllık Ortalama Sepete Atılan Ürün Adedi  Yaş Aralığı Başlangıcı  \\\n",
       "0    obek_4                                102.936904                      31   \n",
       "1    obek_5                                 82.176053                      60   \n",
       "\n",
       "   Yaş Aralığı Bitişi  \n",
       "0                  40  \n",
       "1                 115  "
      ]
     },
     "execution_count": 16,
     "metadata": {},
     "output_type": "execute_result"
    }
   ],
   "source": [
    "data_train.head(2)"
   ]
  },
  {
   "cell_type": "code",
   "execution_count": 17,
   "metadata": {},
   "outputs": [
    {
     "data": {
      "text/html": [
       "<div>\n",
       "<style scoped>\n",
       "    .dataframe tbody tr th:only-of-type {\n",
       "        vertical-align: middle;\n",
       "    }\n",
       "\n",
       "    .dataframe tbody tr th {\n",
       "        vertical-align: top;\n",
       "    }\n",
       "\n",
       "    .dataframe thead th {\n",
       "        text-align: right;\n",
       "    }\n",
       "</style>\n",
       "<table border=\"1\" class=\"dataframe\">\n",
       "  <thead>\n",
       "    <tr style=\"text-align: right;\">\n",
       "      <th></th>\n",
       "      <th>Cinsiyet</th>\n",
       "      <th>Medeni Durum</th>\n",
       "      <th>Eğitim Düzeyi</th>\n",
       "      <th>İstihdam Durumu</th>\n",
       "      <th>Yıllık Ortalama Gelir</th>\n",
       "      <th>Yaşadığı Şehir</th>\n",
       "      <th>En Çok İlgilendiği Ürün Grubu</th>\n",
       "      <th>Yıllık Ortalama Satın Alım Miktarı</th>\n",
       "      <th>Yıllık Ortalama Sipariş Verilen Ürün Adedi</th>\n",
       "      <th>Eğitime Devam Etme Durumu</th>\n",
       "      <th>Yıllık Ortalama Sepete Atılan Ürün Adedi</th>\n",
       "      <th>Yaş Aralığı Başlangıcı</th>\n",
       "      <th>Yaş Aralığı Bitişi</th>\n",
       "    </tr>\n",
       "  </thead>\n",
       "  <tbody>\n",
       "    <tr>\n",
       "      <th>0</th>\n",
       "      <td>0</td>\n",
       "      <td>0</td>\n",
       "      <td>Yüksek Lisans Mezunu</td>\n",
       "      <td>Düzenli ve Ücretli Bir İşi Var</td>\n",
       "      <td>365331.930346</td>\n",
       "      <td>Köy veya Kasaba</td>\n",
       "      <td>Giyim</td>\n",
       "      <td>5566.587664</td>\n",
       "      <td>15.442635</td>\n",
       "      <td>0</td>\n",
       "      <td>19.646460</td>\n",
       "      <td>51</td>\n",
       "      <td>60</td>\n",
       "    </tr>\n",
       "    <tr>\n",
       "      <th>1</th>\n",
       "      <td>0</td>\n",
       "      <td>1</td>\n",
       "      <td>Lise Mezunu</td>\n",
       "      <td>İşsiz veya Düzenli Bir İşi Yok</td>\n",
       "      <td>414899.236174</td>\n",
       "      <td>Büyük Şehir</td>\n",
       "      <td>Spor Malzemeleri</td>\n",
       "      <td>6756.766203</td>\n",
       "      <td>14.957246</td>\n",
       "      <td>0</td>\n",
       "      <td>19.675863</td>\n",
       "      <td>41</td>\n",
       "      <td>50</td>\n",
       "    </tr>\n",
       "  </tbody>\n",
       "</table>\n",
       "</div>"
      ],
      "text/plain": [
       "   Cinsiyet  Medeni Durum         Eğitim Düzeyi  \\\n",
       "0         0             0  Yüksek Lisans Mezunu   \n",
       "1         0             1           Lise Mezunu   \n",
       "\n",
       "                  İstihdam Durumu  Yıllık Ortalama Gelir   Yaşadığı Şehir  \\\n",
       "0  Düzenli ve Ücretli Bir İşi Var          365331.930346  Köy veya Kasaba   \n",
       "1  İşsiz veya Düzenli Bir İşi Yok          414899.236174      Büyük Şehir   \n",
       "\n",
       "  En Çok İlgilendiği Ürün Grubu  Yıllık Ortalama Satın Alım Miktarı  \\\n",
       "0                         Giyim                         5566.587664   \n",
       "1              Spor Malzemeleri                         6756.766203   \n",
       "\n",
       "   Yıllık Ortalama Sipariş Verilen Ürün Adedi  Eğitime Devam Etme Durumu  \\\n",
       "0                                   15.442635                          0   \n",
       "1                                   14.957246                          0   \n",
       "\n",
       "   Yıllık Ortalama Sepete Atılan Ürün Adedi  Yaş Aralığı Başlangıcı  \\\n",
       "0                                 19.646460                      51   \n",
       "1                                 19.675863                      41   \n",
       "\n",
       "   Yaş Aralığı Bitişi  \n",
       "0                  60  \n",
       "1                  50  "
      ]
     },
     "execution_count": 17,
     "metadata": {},
     "output_type": "execute_result"
    }
   ],
   "source": [
    "data_test_x.head(2)"
   ]
  },
  {
   "cell_type": "code",
   "execution_count": 18,
   "metadata": {},
   "outputs": [],
   "source": [
    "data_train[\"Eğitim Düzeyi\"] = data_train[\"Eğitim Düzeyi\"].replace(\n",
    "    ['Eğitimsiz','İlkokul Mezunu','Ortaokul Mezunu','Lise Mezunu',\n",
    "     'Yüksekokul Mezunu','Üniversite Mezunu','Yüksek Lisans Mezunu',\n",
    "     'Doktora Mezunu','Doktora Ötesi'],[0,1,2,3,4,5,6,7,8]\n",
    ")\n",
    "data_train[\"İstihdam Durumu\"] = data_train[\"İstihdam Durumu\"].replace(\n",
    "    ['İşsiz veya Düzenli Bir İşi Yok','Düzenli ve Ücretli Bir İşi Var',\n",
    "     'Kendi İşinin Sahibi','Emekli'],[0,1,2,3]\n",
    ")\n",
    "data_train[\"Yaşadığı Şehir\"] = data_train[\"Yaşadığı Şehir\"].replace(\n",
    "    ['Büyük Şehir', 'Küçük Şehir', 'Kırsal', 'Köy veya Kasaba'],[0,1,2,3]\n",
    ")\n",
    "data_train[\"En Çok İlgilendiği Ürün Grubu\"] = data_train[\"En Çok İlgilendiği Ürün Grubu\"].replace(\n",
    "    ['Elektronik ve Teknolojik Ürünler','Spor Malzemeleri','Giyim',\n",
    "     'Ev ve Mobilya','Kozmetik'],[0,1,2,3,4]\n",
    ")"
   ]
  },
  {
   "cell_type": "code",
   "execution_count": 19,
   "metadata": {},
   "outputs": [],
   "source": [
    "data_test_x[\"Eğitim Düzeyi\"] = data_test_x[\"Eğitim Düzeyi\"].replace(\n",
    "    ['Eğitimsiz','İlkokul Mezunu','Ortaokul Mezunu','Lise Mezunu',\n",
    "     'Yüksekokul Mezunu','Üniversite Mezunu','Yüksek Lisans Mezunu',\n",
    "     'Doktora Mezunu','Doktora Ötesi'],[0,1,2,3,4,5,6,7,8]\n",
    ")\n",
    "data_test_x[\"İstihdam Durumu\"] = data_test_x[\"İstihdam Durumu\"].replace(\n",
    "    ['İşsiz veya Düzenli Bir İşi Yok','Düzenli ve Ücretli Bir İşi Var',\n",
    "     'Kendi İşinin Sahibi','Emekli'],[0,1,2,3]\n",
    ")\n",
    "data_test_x[\"Yaşadığı Şehir\"] = data_test_x[\"Yaşadığı Şehir\"].replace(\n",
    "    ['Büyük Şehir', 'Küçük Şehir', 'Kırsal', 'Köy veya Kasaba'],[0,1,2,3]\n",
    ")\n",
    "data_test_x[\"En Çok İlgilendiği Ürün Grubu\"] = data_test_x[\"En Çok İlgilendiği Ürün Grubu\"].replace(\n",
    "    ['Elektronik ve Teknolojik Ürünler','Spor Malzemeleri','Giyim',\n",
    "     'Ev ve Mobilya','Kozmetik'],[0,1,2,3,4]\n",
    ")"
   ]
  },
  {
   "cell_type": "code",
   "execution_count": 20,
   "metadata": {},
   "outputs": [
    {
     "data": {
      "text/html": [
       "<div>\n",
       "<style scoped>\n",
       "    .dataframe tbody tr th:only-of-type {\n",
       "        vertical-align: middle;\n",
       "    }\n",
       "\n",
       "    .dataframe tbody tr th {\n",
       "        vertical-align: top;\n",
       "    }\n",
       "\n",
       "    .dataframe thead th {\n",
       "        text-align: right;\n",
       "    }\n",
       "</style>\n",
       "<table border=\"1\" class=\"dataframe\">\n",
       "  <thead>\n",
       "    <tr style=\"text-align: right;\">\n",
       "      <th></th>\n",
       "      <th>Cinsiyet</th>\n",
       "      <th>Medeni Durum</th>\n",
       "      <th>Eğitim Düzeyi</th>\n",
       "      <th>İstihdam Durumu</th>\n",
       "      <th>Yıllık Ortalama Gelir</th>\n",
       "      <th>Yaşadığı Şehir</th>\n",
       "      <th>En Çok İlgilendiği Ürün Grubu</th>\n",
       "      <th>Yıllık Ortalama Satın Alım Miktarı</th>\n",
       "      <th>Yıllık Ortalama Sipariş Verilen Ürün Adedi</th>\n",
       "      <th>Eğitime Devam Etme Durumu</th>\n",
       "      <th>Öbek İsmi</th>\n",
       "      <th>Yıllık Ortalama Sepete Atılan Ürün Adedi</th>\n",
       "      <th>Yaş Aralığı Başlangıcı</th>\n",
       "      <th>Yaş Aralığı Bitişi</th>\n",
       "    </tr>\n",
       "  </thead>\n",
       "  <tbody>\n",
       "    <tr>\n",
       "      <th>0</th>\n",
       "      <td>1</td>\n",
       "      <td>1</td>\n",
       "      <td>6</td>\n",
       "      <td>1</td>\n",
       "      <td>748266.440879</td>\n",
       "      <td>0</td>\n",
       "      <td>0</td>\n",
       "      <td>32010.900881</td>\n",
       "      <td>37.310644</td>\n",
       "      <td>0</td>\n",
       "      <td>obek_4</td>\n",
       "      <td>102.936904</td>\n",
       "      <td>31</td>\n",
       "      <td>40</td>\n",
       "    </tr>\n",
       "    <tr>\n",
       "      <th>1</th>\n",
       "      <td>0</td>\n",
       "      <td>0</td>\n",
       "      <td>3</td>\n",
       "      <td>2</td>\n",
       "      <td>246298.609605</td>\n",
       "      <td>1</td>\n",
       "      <td>1</td>\n",
       "      <td>4145.729891</td>\n",
       "      <td>11.554851</td>\n",
       "      <td>0</td>\n",
       "      <td>obek_5</td>\n",
       "      <td>82.176053</td>\n",
       "      <td>60</td>\n",
       "      <td>115</td>\n",
       "    </tr>\n",
       "  </tbody>\n",
       "</table>\n",
       "</div>"
      ],
      "text/plain": [
       "   Cinsiyet  Medeni Durum  Eğitim Düzeyi  İstihdam Durumu  \\\n",
       "0         1             1              6                1   \n",
       "1         0             0              3                2   \n",
       "\n",
       "   Yıllık Ortalama Gelir  Yaşadığı Şehir  En Çok İlgilendiği Ürün Grubu  \\\n",
       "0          748266.440879               0                              0   \n",
       "1          246298.609605               1                              1   \n",
       "\n",
       "   Yıllık Ortalama Satın Alım Miktarı  \\\n",
       "0                        32010.900881   \n",
       "1                         4145.729891   \n",
       "\n",
       "   Yıllık Ortalama Sipariş Verilen Ürün Adedi  Eğitime Devam Etme Durumu  \\\n",
       "0                                   37.310644                          0   \n",
       "1                                   11.554851                          0   \n",
       "\n",
       "  Öbek İsmi  Yıllık Ortalama Sepete Atılan Ürün Adedi  Yaş Aralığı Başlangıcı  \\\n",
       "0    obek_4                                102.936904                      31   \n",
       "1    obek_5                                 82.176053                      60   \n",
       "\n",
       "   Yaş Aralığı Bitişi  \n",
       "0                  40  \n",
       "1                 115  "
      ]
     },
     "execution_count": 20,
     "metadata": {},
     "output_type": "execute_result"
    }
   ],
   "source": [
    "data_train.head(2)"
   ]
  },
  {
   "cell_type": "code",
   "execution_count": 21,
   "metadata": {},
   "outputs": [
    {
     "data": {
      "text/html": [
       "<div>\n",
       "<style scoped>\n",
       "    .dataframe tbody tr th:only-of-type {\n",
       "        vertical-align: middle;\n",
       "    }\n",
       "\n",
       "    .dataframe tbody tr th {\n",
       "        vertical-align: top;\n",
       "    }\n",
       "\n",
       "    .dataframe thead th {\n",
       "        text-align: right;\n",
       "    }\n",
       "</style>\n",
       "<table border=\"1\" class=\"dataframe\">\n",
       "  <thead>\n",
       "    <tr style=\"text-align: right;\">\n",
       "      <th></th>\n",
       "      <th>Cinsiyet</th>\n",
       "      <th>Medeni Durum</th>\n",
       "      <th>Eğitim Düzeyi</th>\n",
       "      <th>İstihdam Durumu</th>\n",
       "      <th>Yıllık Ortalama Gelir</th>\n",
       "      <th>Yaşadığı Şehir</th>\n",
       "      <th>En Çok İlgilendiği Ürün Grubu</th>\n",
       "      <th>Yıllık Ortalama Satın Alım Miktarı</th>\n",
       "      <th>Yıllık Ortalama Sipariş Verilen Ürün Adedi</th>\n",
       "      <th>Eğitime Devam Etme Durumu</th>\n",
       "      <th>Yıllık Ortalama Sepete Atılan Ürün Adedi</th>\n",
       "      <th>Yaş Aralığı Başlangıcı</th>\n",
       "      <th>Yaş Aralığı Bitişi</th>\n",
       "    </tr>\n",
       "  </thead>\n",
       "  <tbody>\n",
       "    <tr>\n",
       "      <th>0</th>\n",
       "      <td>0</td>\n",
       "      <td>0</td>\n",
       "      <td>6</td>\n",
       "      <td>1</td>\n",
       "      <td>365331.930346</td>\n",
       "      <td>3</td>\n",
       "      <td>2</td>\n",
       "      <td>5566.587664</td>\n",
       "      <td>15.442635</td>\n",
       "      <td>0</td>\n",
       "      <td>19.646460</td>\n",
       "      <td>51</td>\n",
       "      <td>60</td>\n",
       "    </tr>\n",
       "    <tr>\n",
       "      <th>1</th>\n",
       "      <td>0</td>\n",
       "      <td>1</td>\n",
       "      <td>3</td>\n",
       "      <td>0</td>\n",
       "      <td>414899.236174</td>\n",
       "      <td>0</td>\n",
       "      <td>1</td>\n",
       "      <td>6756.766203</td>\n",
       "      <td>14.957246</td>\n",
       "      <td>0</td>\n",
       "      <td>19.675863</td>\n",
       "      <td>41</td>\n",
       "      <td>50</td>\n",
       "    </tr>\n",
       "  </tbody>\n",
       "</table>\n",
       "</div>"
      ],
      "text/plain": [
       "   Cinsiyet  Medeni Durum  Eğitim Düzeyi  İstihdam Durumu  \\\n",
       "0         0             0              6                1   \n",
       "1         0             1              3                0   \n",
       "\n",
       "   Yıllık Ortalama Gelir  Yaşadığı Şehir  En Çok İlgilendiği Ürün Grubu  \\\n",
       "0          365331.930346               3                              2   \n",
       "1          414899.236174               0                              1   \n",
       "\n",
       "   Yıllık Ortalama Satın Alım Miktarı  \\\n",
       "0                         5566.587664   \n",
       "1                         6756.766203   \n",
       "\n",
       "   Yıllık Ortalama Sipariş Verilen Ürün Adedi  Eğitime Devam Etme Durumu  \\\n",
       "0                                   15.442635                          0   \n",
       "1                                   14.957246                          0   \n",
       "\n",
       "   Yıllık Ortalama Sepete Atılan Ürün Adedi  Yaş Aralığı Başlangıcı  \\\n",
       "0                                 19.646460                      51   \n",
       "1                                 19.675863                      41   \n",
       "\n",
       "   Yaş Aralığı Bitişi  \n",
       "0                  60  \n",
       "1                  50  "
      ]
     },
     "execution_count": 21,
     "metadata": {},
     "output_type": "execute_result"
    }
   ],
   "source": [
    "data_test_x.head(2)"
   ]
  },
  {
   "cell_type": "code",
   "execution_count": 22,
   "metadata": {},
   "outputs": [],
   "source": [
    "from sklearn.preprocessing import MinMaxScaler"
   ]
  },
  {
   "cell_type": "code",
   "execution_count": 23,
   "metadata": {},
   "outputs": [],
   "source": [
    "scaler_1 = MinMaxScaler()\n",
    "scaled_values_1 = scaler_1.fit_transform(data_train[[\n",
    "    'Yıllık Ortalama Gelir','Yıllık Ortalama Satın Alım Miktarı',\n",
    "    'Yıllık Ortalama Sipariş Verilen Ürün Adedi',\n",
    "    'Yıllık Ortalama Sepete Atılan Ürün Adedi'\n",
    "]])\n",
    "data_train[['Yıllık Ortalama Gelir','Yıllık Ortalama Satın Alım Miktarı',\n",
    "    'Yıllık Ortalama Sipariş Verilen Ürün Adedi',\n",
    "    'Yıllık Ortalama Sepete Atılan Ürün Adedi']] = scaled_values_1"
   ]
  },
  {
   "cell_type": "code",
   "execution_count": 24,
   "metadata": {},
   "outputs": [],
   "source": [
    "scaler_2 = MinMaxScaler()\n",
    "scaled_values_2 = scaler_2.fit_transform(data_test_x[[\n",
    "    'Yıllık Ortalama Gelir','Yıllık Ortalama Satın Alım Miktarı',\n",
    "    'Yıllık Ortalama Sipariş Verilen Ürün Adedi',\n",
    "    'Yıllık Ortalama Sepete Atılan Ürün Adedi'\n",
    "]])\n",
    "data_test_x[['Yıllık Ortalama Gelir','Yıllık Ortalama Satın Alım Miktarı',\n",
    "    'Yıllık Ortalama Sipariş Verilen Ürün Adedi',\n",
    "    'Yıllık Ortalama Sepete Atılan Ürün Adedi']] = scaled_values_2"
   ]
  },
  {
   "cell_type": "code",
   "execution_count": 25,
   "metadata": {},
   "outputs": [
    {
     "data": {
      "text/html": [
       "<div>\n",
       "<style scoped>\n",
       "    .dataframe tbody tr th:only-of-type {\n",
       "        vertical-align: middle;\n",
       "    }\n",
       "\n",
       "    .dataframe tbody tr th {\n",
       "        vertical-align: top;\n",
       "    }\n",
       "\n",
       "    .dataframe thead th {\n",
       "        text-align: right;\n",
       "    }\n",
       "</style>\n",
       "<table border=\"1\" class=\"dataframe\">\n",
       "  <thead>\n",
       "    <tr style=\"text-align: right;\">\n",
       "      <th></th>\n",
       "      <th>Cinsiyet</th>\n",
       "      <th>Medeni Durum</th>\n",
       "      <th>Eğitim Düzeyi</th>\n",
       "      <th>İstihdam Durumu</th>\n",
       "      <th>Yıllık Ortalama Gelir</th>\n",
       "      <th>Yaşadığı Şehir</th>\n",
       "      <th>En Çok İlgilendiği Ürün Grubu</th>\n",
       "      <th>Yıllık Ortalama Satın Alım Miktarı</th>\n",
       "      <th>Yıllık Ortalama Sipariş Verilen Ürün Adedi</th>\n",
       "      <th>Eğitime Devam Etme Durumu</th>\n",
       "      <th>Öbek İsmi</th>\n",
       "      <th>Yıllık Ortalama Sepete Atılan Ürün Adedi</th>\n",
       "      <th>Yaş Aralığı Başlangıcı</th>\n",
       "      <th>Yaş Aralığı Bitişi</th>\n",
       "    </tr>\n",
       "  </thead>\n",
       "  <tbody>\n",
       "    <tr>\n",
       "      <th>0</th>\n",
       "      <td>1</td>\n",
       "      <td>1</td>\n",
       "      <td>6</td>\n",
       "      <td>1</td>\n",
       "      <td>0.613265</td>\n",
       "      <td>0</td>\n",
       "      <td>0</td>\n",
       "      <td>0.637245</td>\n",
       "      <td>0.577419</td>\n",
       "      <td>0</td>\n",
       "      <td>obek_4</td>\n",
       "      <td>0.415218</td>\n",
       "      <td>31</td>\n",
       "      <td>40</td>\n",
       "    </tr>\n",
       "    <tr>\n",
       "      <th>1</th>\n",
       "      <td>0</td>\n",
       "      <td>0</td>\n",
       "      <td>3</td>\n",
       "      <td>2</td>\n",
       "      <td>0.176206</td>\n",
       "      <td>1</td>\n",
       "      <td>1</td>\n",
       "      <td>0.028122</td>\n",
       "      <td>0.178823</td>\n",
       "      <td>0</td>\n",
       "      <td>obek_5</td>\n",
       "      <td>0.328109</td>\n",
       "      <td>60</td>\n",
       "      <td>115</td>\n",
       "    </tr>\n",
       "  </tbody>\n",
       "</table>\n",
       "</div>"
      ],
      "text/plain": [
       "   Cinsiyet  Medeni Durum  Eğitim Düzeyi  İstihdam Durumu  \\\n",
       "0         1             1              6                1   \n",
       "1         0             0              3                2   \n",
       "\n",
       "   Yıllık Ortalama Gelir  Yaşadığı Şehir  En Çok İlgilendiği Ürün Grubu  \\\n",
       "0               0.613265               0                              0   \n",
       "1               0.176206               1                              1   \n",
       "\n",
       "   Yıllık Ortalama Satın Alım Miktarı  \\\n",
       "0                            0.637245   \n",
       "1                            0.028122   \n",
       "\n",
       "   Yıllık Ortalama Sipariş Verilen Ürün Adedi  Eğitime Devam Etme Durumu  \\\n",
       "0                                    0.577419                          0   \n",
       "1                                    0.178823                          0   \n",
       "\n",
       "  Öbek İsmi  Yıllık Ortalama Sepete Atılan Ürün Adedi  Yaş Aralığı Başlangıcı  \\\n",
       "0    obek_4                                  0.415218                      31   \n",
       "1    obek_5                                  0.328109                      60   \n",
       "\n",
       "   Yaş Aralığı Bitişi  \n",
       "0                  40  \n",
       "1                 115  "
      ]
     },
     "execution_count": 25,
     "metadata": {},
     "output_type": "execute_result"
    }
   ],
   "source": [
    "data_train.head(2)"
   ]
  },
  {
   "cell_type": "code",
   "execution_count": 26,
   "metadata": {},
   "outputs": [
    {
     "data": {
      "text/html": [
       "<div>\n",
       "<style scoped>\n",
       "    .dataframe tbody tr th:only-of-type {\n",
       "        vertical-align: middle;\n",
       "    }\n",
       "\n",
       "    .dataframe tbody tr th {\n",
       "        vertical-align: top;\n",
       "    }\n",
       "\n",
       "    .dataframe thead th {\n",
       "        text-align: right;\n",
       "    }\n",
       "</style>\n",
       "<table border=\"1\" class=\"dataframe\">\n",
       "  <thead>\n",
       "    <tr style=\"text-align: right;\">\n",
       "      <th></th>\n",
       "      <th>Cinsiyet</th>\n",
       "      <th>Medeni Durum</th>\n",
       "      <th>Eğitim Düzeyi</th>\n",
       "      <th>İstihdam Durumu</th>\n",
       "      <th>Yıllık Ortalama Gelir</th>\n",
       "      <th>Yaşadığı Şehir</th>\n",
       "      <th>En Çok İlgilendiği Ürün Grubu</th>\n",
       "      <th>Yıllık Ortalama Satın Alım Miktarı</th>\n",
       "      <th>Yıllık Ortalama Sipariş Verilen Ürün Adedi</th>\n",
       "      <th>Eğitime Devam Etme Durumu</th>\n",
       "      <th>Yıllık Ortalama Sepete Atılan Ürün Adedi</th>\n",
       "      <th>Yaş Aralığı Başlangıcı</th>\n",
       "      <th>Yaş Aralığı Bitişi</th>\n",
       "    </tr>\n",
       "  </thead>\n",
       "  <tbody>\n",
       "    <tr>\n",
       "      <th>0</th>\n",
       "      <td>0</td>\n",
       "      <td>0</td>\n",
       "      <td>6</td>\n",
       "      <td>1</td>\n",
       "      <td>0.247815</td>\n",
       "      <td>3</td>\n",
       "      <td>2</td>\n",
       "      <td>0.061961</td>\n",
       "      <td>0.241225</td>\n",
       "      <td>0</td>\n",
       "      <td>0.061780</td>\n",
       "      <td>51</td>\n",
       "      <td>60</td>\n",
       "    </tr>\n",
       "    <tr>\n",
       "      <th>1</th>\n",
       "      <td>0</td>\n",
       "      <td>1</td>\n",
       "      <td>3</td>\n",
       "      <td>0</td>\n",
       "      <td>0.290964</td>\n",
       "      <td>0</td>\n",
       "      <td>1</td>\n",
       "      <td>0.089316</td>\n",
       "      <td>0.233643</td>\n",
       "      <td>0</td>\n",
       "      <td>0.061906</td>\n",
       "      <td>41</td>\n",
       "      <td>50</td>\n",
       "    </tr>\n",
       "  </tbody>\n",
       "</table>\n",
       "</div>"
      ],
      "text/plain": [
       "   Cinsiyet  Medeni Durum  Eğitim Düzeyi  İstihdam Durumu  \\\n",
       "0         0             0              6                1   \n",
       "1         0             1              3                0   \n",
       "\n",
       "   Yıllık Ortalama Gelir  Yaşadığı Şehir  En Çok İlgilendiği Ürün Grubu  \\\n",
       "0               0.247815               3                              2   \n",
       "1               0.290964               0                              1   \n",
       "\n",
       "   Yıllık Ortalama Satın Alım Miktarı  \\\n",
       "0                            0.061961   \n",
       "1                            0.089316   \n",
       "\n",
       "   Yıllık Ortalama Sipariş Verilen Ürün Adedi  Eğitime Devam Etme Durumu  \\\n",
       "0                                    0.241225                          0   \n",
       "1                                    0.233643                          0   \n",
       "\n",
       "   Yıllık Ortalama Sepete Atılan Ürün Adedi  Yaş Aralığı Başlangıcı  \\\n",
       "0                                  0.061780                      51   \n",
       "1                                  0.061906                      41   \n",
       "\n",
       "   Yaş Aralığı Bitişi  \n",
       "0                  60  \n",
       "1                  50  "
      ]
     },
     "execution_count": 26,
     "metadata": {},
     "output_type": "execute_result"
    }
   ],
   "source": [
    "data_test_x.head(2)"
   ]
  },
  {
   "cell_type": "code",
   "execution_count": 27,
   "metadata": {},
   "outputs": [],
   "source": [
    "from sklearn.model_selection import train_test_split"
   ]
  },
  {
   "cell_type": "code",
   "execution_count": 28,
   "metadata": {},
   "outputs": [],
   "source": [
    "X = data_train.drop(\"Öbek İsmi\",axis=1)\n",
    "y = data_train[\"Öbek İsmi\"]"
   ]
  },
  {
   "cell_type": "code",
   "execution_count": 29,
   "metadata": {},
   "outputs": [],
   "source": [
    "X_train, X_test, y_train, y_test = train_test_split(X, y, test_size=0.2, random_state=53, shuffle=True)"
   ]
  },
  {
   "cell_type": "code",
   "execution_count": 30,
   "metadata": {},
   "outputs": [],
   "source": [
    "from sklearn.neighbors import KNeighborsClassifier\n",
    "KNeighborsClassifier = KNeighborsClassifier()\n",
    "from sklearn.svm import SVC\n",
    "SVC = SVC()\n",
    "from sklearn.tree import DecisionTreeClassifier\n",
    "DecisionTreeClassifier = DecisionTreeClassifier()\n",
    "from sklearn.ensemble import RandomForestClassifier\n",
    "RandomForestClassifier = RandomForestClassifier()\n",
    "from sklearn.ensemble import GradientBoostingClassifier\n",
    "GradientBoostingClassifier = GradientBoostingClassifier()\n",
    "from sklearn.neural_network import MLPClassifier\n",
    "MLPClassifier = MLPClassifier()\n",
    "from sklearn.naive_bayes import GaussianNB\n",
    "GaussianNB = GaussianNB()"
   ]
  },
  {
   "cell_type": "code",
   "execution_count": 31,
   "metadata": {},
   "outputs": [
    {
     "data": {
      "text/html": [
       "<style>#sk-container-id-1 {color: black;background-color: white;}#sk-container-id-1 pre{padding: 0;}#sk-container-id-1 div.sk-toggleable {background-color: white;}#sk-container-id-1 label.sk-toggleable__label {cursor: pointer;display: block;width: 100%;margin-bottom: 0;padding: 0.3em;box-sizing: border-box;text-align: center;}#sk-container-id-1 label.sk-toggleable__label-arrow:before {content: \"▸\";float: left;margin-right: 0.25em;color: #696969;}#sk-container-id-1 label.sk-toggleable__label-arrow:hover:before {color: black;}#sk-container-id-1 div.sk-estimator:hover label.sk-toggleable__label-arrow:before {color: black;}#sk-container-id-1 div.sk-toggleable__content {max-height: 0;max-width: 0;overflow: hidden;text-align: left;background-color: #f0f8ff;}#sk-container-id-1 div.sk-toggleable__content pre {margin: 0.2em;color: black;border-radius: 0.25em;background-color: #f0f8ff;}#sk-container-id-1 input.sk-toggleable__control:checked~div.sk-toggleable__content {max-height: 200px;max-width: 100%;overflow: auto;}#sk-container-id-1 input.sk-toggleable__control:checked~label.sk-toggleable__label-arrow:before {content: \"▾\";}#sk-container-id-1 div.sk-estimator input.sk-toggleable__control:checked~label.sk-toggleable__label {background-color: #d4ebff;}#sk-container-id-1 div.sk-label input.sk-toggleable__control:checked~label.sk-toggleable__label {background-color: #d4ebff;}#sk-container-id-1 input.sk-hidden--visually {border: 0;clip: rect(1px 1px 1px 1px);clip: rect(1px, 1px, 1px, 1px);height: 1px;margin: -1px;overflow: hidden;padding: 0;position: absolute;width: 1px;}#sk-container-id-1 div.sk-estimator {font-family: monospace;background-color: #f0f8ff;border: 1px dotted black;border-radius: 0.25em;box-sizing: border-box;margin-bottom: 0.5em;}#sk-container-id-1 div.sk-estimator:hover {background-color: #d4ebff;}#sk-container-id-1 div.sk-parallel-item::after {content: \"\";width: 100%;border-bottom: 1px solid gray;flex-grow: 1;}#sk-container-id-1 div.sk-label:hover label.sk-toggleable__label {background-color: #d4ebff;}#sk-container-id-1 div.sk-serial::before {content: \"\";position: absolute;border-left: 1px solid gray;box-sizing: border-box;top: 0;bottom: 0;left: 50%;z-index: 0;}#sk-container-id-1 div.sk-serial {display: flex;flex-direction: column;align-items: center;background-color: white;padding-right: 0.2em;padding-left: 0.2em;position: relative;}#sk-container-id-1 div.sk-item {position: relative;z-index: 1;}#sk-container-id-1 div.sk-parallel {display: flex;align-items: stretch;justify-content: center;background-color: white;position: relative;}#sk-container-id-1 div.sk-item::before, #sk-container-id-1 div.sk-parallel-item::before {content: \"\";position: absolute;border-left: 1px solid gray;box-sizing: border-box;top: 0;bottom: 0;left: 50%;z-index: -1;}#sk-container-id-1 div.sk-parallel-item {display: flex;flex-direction: column;z-index: 1;position: relative;background-color: white;}#sk-container-id-1 div.sk-parallel-item:first-child::after {align-self: flex-end;width: 50%;}#sk-container-id-1 div.sk-parallel-item:last-child::after {align-self: flex-start;width: 50%;}#sk-container-id-1 div.sk-parallel-item:only-child::after {width: 0;}#sk-container-id-1 div.sk-dashed-wrapped {border: 1px dashed gray;margin: 0 0.4em 0.5em 0.4em;box-sizing: border-box;padding-bottom: 0.4em;background-color: white;}#sk-container-id-1 div.sk-label label {font-family: monospace;font-weight: bold;display: inline-block;line-height: 1.2em;}#sk-container-id-1 div.sk-label-container {text-align: center;}#sk-container-id-1 div.sk-container {/* jupyter's `normalize.less` sets `[hidden] { display: none; }` but bootstrap.min.css set `[hidden] { display: none !important; }` so we also need the `!important` here to be able to override the default hidden behavior on the sphinx rendered scikit-learn.org. See: https://github.com/scikit-learn/scikit-learn/issues/21755 */display: inline-block !important;position: relative;}#sk-container-id-1 div.sk-text-repr-fallback {display: none;}</style><div id=\"sk-container-id-1\" class=\"sk-top-container\"><div class=\"sk-text-repr-fallback\"><pre>KNeighborsClassifier()</pre><b>In a Jupyter environment, please rerun this cell to show the HTML representation or trust the notebook. <br />On GitHub, the HTML representation is unable to render, please try loading this page with nbviewer.org.</b></div><div class=\"sk-container\" hidden><div class=\"sk-item\"><div class=\"sk-estimator sk-toggleable\"><input class=\"sk-toggleable__control sk-hidden--visually\" id=\"sk-estimator-id-1\" type=\"checkbox\" checked><label for=\"sk-estimator-id-1\" class=\"sk-toggleable__label sk-toggleable__label-arrow\">KNeighborsClassifier</label><div class=\"sk-toggleable__content\"><pre>KNeighborsClassifier()</pre></div></div></div></div></div>"
      ],
      "text/plain": [
       "KNeighborsClassifier()"
      ]
     },
     "execution_count": 31,
     "metadata": {},
     "output_type": "execute_result"
    }
   ],
   "source": [
    "KNeighborsClassifier.fit(X_train, y_train)"
   ]
  },
  {
   "cell_type": "code",
   "execution_count": 32,
   "metadata": {},
   "outputs": [],
   "source": [
    "prediction_KNeighborsClassifier = KNeighborsClassifier.predict(X_test)"
   ]
  },
  {
   "cell_type": "code",
   "execution_count": 33,
   "metadata": {},
   "outputs": [
    {
     "data": {
      "text/html": [
       "<style>#sk-container-id-2 {color: black;background-color: white;}#sk-container-id-2 pre{padding: 0;}#sk-container-id-2 div.sk-toggleable {background-color: white;}#sk-container-id-2 label.sk-toggleable__label {cursor: pointer;display: block;width: 100%;margin-bottom: 0;padding: 0.3em;box-sizing: border-box;text-align: center;}#sk-container-id-2 label.sk-toggleable__label-arrow:before {content: \"▸\";float: left;margin-right: 0.25em;color: #696969;}#sk-container-id-2 label.sk-toggleable__label-arrow:hover:before {color: black;}#sk-container-id-2 div.sk-estimator:hover label.sk-toggleable__label-arrow:before {color: black;}#sk-container-id-2 div.sk-toggleable__content {max-height: 0;max-width: 0;overflow: hidden;text-align: left;background-color: #f0f8ff;}#sk-container-id-2 div.sk-toggleable__content pre {margin: 0.2em;color: black;border-radius: 0.25em;background-color: #f0f8ff;}#sk-container-id-2 input.sk-toggleable__control:checked~div.sk-toggleable__content {max-height: 200px;max-width: 100%;overflow: auto;}#sk-container-id-2 input.sk-toggleable__control:checked~label.sk-toggleable__label-arrow:before {content: \"▾\";}#sk-container-id-2 div.sk-estimator input.sk-toggleable__control:checked~label.sk-toggleable__label {background-color: #d4ebff;}#sk-container-id-2 div.sk-label input.sk-toggleable__control:checked~label.sk-toggleable__label {background-color: #d4ebff;}#sk-container-id-2 input.sk-hidden--visually {border: 0;clip: rect(1px 1px 1px 1px);clip: rect(1px, 1px, 1px, 1px);height: 1px;margin: -1px;overflow: hidden;padding: 0;position: absolute;width: 1px;}#sk-container-id-2 div.sk-estimator {font-family: monospace;background-color: #f0f8ff;border: 1px dotted black;border-radius: 0.25em;box-sizing: border-box;margin-bottom: 0.5em;}#sk-container-id-2 div.sk-estimator:hover {background-color: #d4ebff;}#sk-container-id-2 div.sk-parallel-item::after {content: \"\";width: 100%;border-bottom: 1px solid gray;flex-grow: 1;}#sk-container-id-2 div.sk-label:hover label.sk-toggleable__label {background-color: #d4ebff;}#sk-container-id-2 div.sk-serial::before {content: \"\";position: absolute;border-left: 1px solid gray;box-sizing: border-box;top: 0;bottom: 0;left: 50%;z-index: 0;}#sk-container-id-2 div.sk-serial {display: flex;flex-direction: column;align-items: center;background-color: white;padding-right: 0.2em;padding-left: 0.2em;position: relative;}#sk-container-id-2 div.sk-item {position: relative;z-index: 1;}#sk-container-id-2 div.sk-parallel {display: flex;align-items: stretch;justify-content: center;background-color: white;position: relative;}#sk-container-id-2 div.sk-item::before, #sk-container-id-2 div.sk-parallel-item::before {content: \"\";position: absolute;border-left: 1px solid gray;box-sizing: border-box;top: 0;bottom: 0;left: 50%;z-index: -1;}#sk-container-id-2 div.sk-parallel-item {display: flex;flex-direction: column;z-index: 1;position: relative;background-color: white;}#sk-container-id-2 div.sk-parallel-item:first-child::after {align-self: flex-end;width: 50%;}#sk-container-id-2 div.sk-parallel-item:last-child::after {align-self: flex-start;width: 50%;}#sk-container-id-2 div.sk-parallel-item:only-child::after {width: 0;}#sk-container-id-2 div.sk-dashed-wrapped {border: 1px dashed gray;margin: 0 0.4em 0.5em 0.4em;box-sizing: border-box;padding-bottom: 0.4em;background-color: white;}#sk-container-id-2 div.sk-label label {font-family: monospace;font-weight: bold;display: inline-block;line-height: 1.2em;}#sk-container-id-2 div.sk-label-container {text-align: center;}#sk-container-id-2 div.sk-container {/* jupyter's `normalize.less` sets `[hidden] { display: none; }` but bootstrap.min.css set `[hidden] { display: none !important; }` so we also need the `!important` here to be able to override the default hidden behavior on the sphinx rendered scikit-learn.org. See: https://github.com/scikit-learn/scikit-learn/issues/21755 */display: inline-block !important;position: relative;}#sk-container-id-2 div.sk-text-repr-fallback {display: none;}</style><div id=\"sk-container-id-2\" class=\"sk-top-container\"><div class=\"sk-text-repr-fallback\"><pre>SVC()</pre><b>In a Jupyter environment, please rerun this cell to show the HTML representation or trust the notebook. <br />On GitHub, the HTML representation is unable to render, please try loading this page with nbviewer.org.</b></div><div class=\"sk-container\" hidden><div class=\"sk-item\"><div class=\"sk-estimator sk-toggleable\"><input class=\"sk-toggleable__control sk-hidden--visually\" id=\"sk-estimator-id-2\" type=\"checkbox\" checked><label for=\"sk-estimator-id-2\" class=\"sk-toggleable__label sk-toggleable__label-arrow\">SVC</label><div class=\"sk-toggleable__content\"><pre>SVC()</pre></div></div></div></div></div>"
      ],
      "text/plain": [
       "SVC()"
      ]
     },
     "execution_count": 33,
     "metadata": {},
     "output_type": "execute_result"
    }
   ],
   "source": [
    "SVC.fit(X_train, y_train)"
   ]
  },
  {
   "cell_type": "code",
   "execution_count": 34,
   "metadata": {},
   "outputs": [],
   "source": [
    "prediction_SVC = SVC.predict(X_test)"
   ]
  },
  {
   "cell_type": "code",
   "execution_count": 35,
   "metadata": {},
   "outputs": [
    {
     "data": {
      "text/html": [
       "<style>#sk-container-id-3 {color: black;background-color: white;}#sk-container-id-3 pre{padding: 0;}#sk-container-id-3 div.sk-toggleable {background-color: white;}#sk-container-id-3 label.sk-toggleable__label {cursor: pointer;display: block;width: 100%;margin-bottom: 0;padding: 0.3em;box-sizing: border-box;text-align: center;}#sk-container-id-3 label.sk-toggleable__label-arrow:before {content: \"▸\";float: left;margin-right: 0.25em;color: #696969;}#sk-container-id-3 label.sk-toggleable__label-arrow:hover:before {color: black;}#sk-container-id-3 div.sk-estimator:hover label.sk-toggleable__label-arrow:before {color: black;}#sk-container-id-3 div.sk-toggleable__content {max-height: 0;max-width: 0;overflow: hidden;text-align: left;background-color: #f0f8ff;}#sk-container-id-3 div.sk-toggleable__content pre {margin: 0.2em;color: black;border-radius: 0.25em;background-color: #f0f8ff;}#sk-container-id-3 input.sk-toggleable__control:checked~div.sk-toggleable__content {max-height: 200px;max-width: 100%;overflow: auto;}#sk-container-id-3 input.sk-toggleable__control:checked~label.sk-toggleable__label-arrow:before {content: \"▾\";}#sk-container-id-3 div.sk-estimator input.sk-toggleable__control:checked~label.sk-toggleable__label {background-color: #d4ebff;}#sk-container-id-3 div.sk-label input.sk-toggleable__control:checked~label.sk-toggleable__label {background-color: #d4ebff;}#sk-container-id-3 input.sk-hidden--visually {border: 0;clip: rect(1px 1px 1px 1px);clip: rect(1px, 1px, 1px, 1px);height: 1px;margin: -1px;overflow: hidden;padding: 0;position: absolute;width: 1px;}#sk-container-id-3 div.sk-estimator {font-family: monospace;background-color: #f0f8ff;border: 1px dotted black;border-radius: 0.25em;box-sizing: border-box;margin-bottom: 0.5em;}#sk-container-id-3 div.sk-estimator:hover {background-color: #d4ebff;}#sk-container-id-3 div.sk-parallel-item::after {content: \"\";width: 100%;border-bottom: 1px solid gray;flex-grow: 1;}#sk-container-id-3 div.sk-label:hover label.sk-toggleable__label {background-color: #d4ebff;}#sk-container-id-3 div.sk-serial::before {content: \"\";position: absolute;border-left: 1px solid gray;box-sizing: border-box;top: 0;bottom: 0;left: 50%;z-index: 0;}#sk-container-id-3 div.sk-serial {display: flex;flex-direction: column;align-items: center;background-color: white;padding-right: 0.2em;padding-left: 0.2em;position: relative;}#sk-container-id-3 div.sk-item {position: relative;z-index: 1;}#sk-container-id-3 div.sk-parallel {display: flex;align-items: stretch;justify-content: center;background-color: white;position: relative;}#sk-container-id-3 div.sk-item::before, #sk-container-id-3 div.sk-parallel-item::before {content: \"\";position: absolute;border-left: 1px solid gray;box-sizing: border-box;top: 0;bottom: 0;left: 50%;z-index: -1;}#sk-container-id-3 div.sk-parallel-item {display: flex;flex-direction: column;z-index: 1;position: relative;background-color: white;}#sk-container-id-3 div.sk-parallel-item:first-child::after {align-self: flex-end;width: 50%;}#sk-container-id-3 div.sk-parallel-item:last-child::after {align-self: flex-start;width: 50%;}#sk-container-id-3 div.sk-parallel-item:only-child::after {width: 0;}#sk-container-id-3 div.sk-dashed-wrapped {border: 1px dashed gray;margin: 0 0.4em 0.5em 0.4em;box-sizing: border-box;padding-bottom: 0.4em;background-color: white;}#sk-container-id-3 div.sk-label label {font-family: monospace;font-weight: bold;display: inline-block;line-height: 1.2em;}#sk-container-id-3 div.sk-label-container {text-align: center;}#sk-container-id-3 div.sk-container {/* jupyter's `normalize.less` sets `[hidden] { display: none; }` but bootstrap.min.css set `[hidden] { display: none !important; }` so we also need the `!important` here to be able to override the default hidden behavior on the sphinx rendered scikit-learn.org. See: https://github.com/scikit-learn/scikit-learn/issues/21755 */display: inline-block !important;position: relative;}#sk-container-id-3 div.sk-text-repr-fallback {display: none;}</style><div id=\"sk-container-id-3\" class=\"sk-top-container\"><div class=\"sk-text-repr-fallback\"><pre>DecisionTreeClassifier()</pre><b>In a Jupyter environment, please rerun this cell to show the HTML representation or trust the notebook. <br />On GitHub, the HTML representation is unable to render, please try loading this page with nbviewer.org.</b></div><div class=\"sk-container\" hidden><div class=\"sk-item\"><div class=\"sk-estimator sk-toggleable\"><input class=\"sk-toggleable__control sk-hidden--visually\" id=\"sk-estimator-id-3\" type=\"checkbox\" checked><label for=\"sk-estimator-id-3\" class=\"sk-toggleable__label sk-toggleable__label-arrow\">DecisionTreeClassifier</label><div class=\"sk-toggleable__content\"><pre>DecisionTreeClassifier()</pre></div></div></div></div></div>"
      ],
      "text/plain": [
       "DecisionTreeClassifier()"
      ]
     },
     "execution_count": 35,
     "metadata": {},
     "output_type": "execute_result"
    }
   ],
   "source": [
    "DecisionTreeClassifier.fit(X_train, y_train)"
   ]
  },
  {
   "cell_type": "code",
   "execution_count": 36,
   "metadata": {},
   "outputs": [],
   "source": [
    "prediction_DecisionTreeClassifier = DecisionTreeClassifier.predict(X_test)"
   ]
  },
  {
   "cell_type": "code",
   "execution_count": 37,
   "metadata": {},
   "outputs": [
    {
     "data": {
      "text/html": [
       "<style>#sk-container-id-4 {color: black;background-color: white;}#sk-container-id-4 pre{padding: 0;}#sk-container-id-4 div.sk-toggleable {background-color: white;}#sk-container-id-4 label.sk-toggleable__label {cursor: pointer;display: block;width: 100%;margin-bottom: 0;padding: 0.3em;box-sizing: border-box;text-align: center;}#sk-container-id-4 label.sk-toggleable__label-arrow:before {content: \"▸\";float: left;margin-right: 0.25em;color: #696969;}#sk-container-id-4 label.sk-toggleable__label-arrow:hover:before {color: black;}#sk-container-id-4 div.sk-estimator:hover label.sk-toggleable__label-arrow:before {color: black;}#sk-container-id-4 div.sk-toggleable__content {max-height: 0;max-width: 0;overflow: hidden;text-align: left;background-color: #f0f8ff;}#sk-container-id-4 div.sk-toggleable__content pre {margin: 0.2em;color: black;border-radius: 0.25em;background-color: #f0f8ff;}#sk-container-id-4 input.sk-toggleable__control:checked~div.sk-toggleable__content {max-height: 200px;max-width: 100%;overflow: auto;}#sk-container-id-4 input.sk-toggleable__control:checked~label.sk-toggleable__label-arrow:before {content: \"▾\";}#sk-container-id-4 div.sk-estimator input.sk-toggleable__control:checked~label.sk-toggleable__label {background-color: #d4ebff;}#sk-container-id-4 div.sk-label input.sk-toggleable__control:checked~label.sk-toggleable__label {background-color: #d4ebff;}#sk-container-id-4 input.sk-hidden--visually {border: 0;clip: rect(1px 1px 1px 1px);clip: rect(1px, 1px, 1px, 1px);height: 1px;margin: -1px;overflow: hidden;padding: 0;position: absolute;width: 1px;}#sk-container-id-4 div.sk-estimator {font-family: monospace;background-color: #f0f8ff;border: 1px dotted black;border-radius: 0.25em;box-sizing: border-box;margin-bottom: 0.5em;}#sk-container-id-4 div.sk-estimator:hover {background-color: #d4ebff;}#sk-container-id-4 div.sk-parallel-item::after {content: \"\";width: 100%;border-bottom: 1px solid gray;flex-grow: 1;}#sk-container-id-4 div.sk-label:hover label.sk-toggleable__label {background-color: #d4ebff;}#sk-container-id-4 div.sk-serial::before {content: \"\";position: absolute;border-left: 1px solid gray;box-sizing: border-box;top: 0;bottom: 0;left: 50%;z-index: 0;}#sk-container-id-4 div.sk-serial {display: flex;flex-direction: column;align-items: center;background-color: white;padding-right: 0.2em;padding-left: 0.2em;position: relative;}#sk-container-id-4 div.sk-item {position: relative;z-index: 1;}#sk-container-id-4 div.sk-parallel {display: flex;align-items: stretch;justify-content: center;background-color: white;position: relative;}#sk-container-id-4 div.sk-item::before, #sk-container-id-4 div.sk-parallel-item::before {content: \"\";position: absolute;border-left: 1px solid gray;box-sizing: border-box;top: 0;bottom: 0;left: 50%;z-index: -1;}#sk-container-id-4 div.sk-parallel-item {display: flex;flex-direction: column;z-index: 1;position: relative;background-color: white;}#sk-container-id-4 div.sk-parallel-item:first-child::after {align-self: flex-end;width: 50%;}#sk-container-id-4 div.sk-parallel-item:last-child::after {align-self: flex-start;width: 50%;}#sk-container-id-4 div.sk-parallel-item:only-child::after {width: 0;}#sk-container-id-4 div.sk-dashed-wrapped {border: 1px dashed gray;margin: 0 0.4em 0.5em 0.4em;box-sizing: border-box;padding-bottom: 0.4em;background-color: white;}#sk-container-id-4 div.sk-label label {font-family: monospace;font-weight: bold;display: inline-block;line-height: 1.2em;}#sk-container-id-4 div.sk-label-container {text-align: center;}#sk-container-id-4 div.sk-container {/* jupyter's `normalize.less` sets `[hidden] { display: none; }` but bootstrap.min.css set `[hidden] { display: none !important; }` so we also need the `!important` here to be able to override the default hidden behavior on the sphinx rendered scikit-learn.org. See: https://github.com/scikit-learn/scikit-learn/issues/21755 */display: inline-block !important;position: relative;}#sk-container-id-4 div.sk-text-repr-fallback {display: none;}</style><div id=\"sk-container-id-4\" class=\"sk-top-container\"><div class=\"sk-text-repr-fallback\"><pre>RandomForestClassifier()</pre><b>In a Jupyter environment, please rerun this cell to show the HTML representation or trust the notebook. <br />On GitHub, the HTML representation is unable to render, please try loading this page with nbviewer.org.</b></div><div class=\"sk-container\" hidden><div class=\"sk-item\"><div class=\"sk-estimator sk-toggleable\"><input class=\"sk-toggleable__control sk-hidden--visually\" id=\"sk-estimator-id-4\" type=\"checkbox\" checked><label for=\"sk-estimator-id-4\" class=\"sk-toggleable__label sk-toggleable__label-arrow\">RandomForestClassifier</label><div class=\"sk-toggleable__content\"><pre>RandomForestClassifier()</pre></div></div></div></div></div>"
      ],
      "text/plain": [
       "RandomForestClassifier()"
      ]
     },
     "execution_count": 37,
     "metadata": {},
     "output_type": "execute_result"
    }
   ],
   "source": [
    "RandomForestClassifier.fit(X_train, y_train)"
   ]
  },
  {
   "cell_type": "code",
   "execution_count": 38,
   "metadata": {},
   "outputs": [],
   "source": [
    "prediction_RandomForestClassifier = RandomForestClassifier.predict(X_test)"
   ]
  },
  {
   "cell_type": "code",
   "execution_count": 39,
   "metadata": {},
   "outputs": [
    {
     "data": {
      "text/html": [
       "<style>#sk-container-id-5 {color: black;background-color: white;}#sk-container-id-5 pre{padding: 0;}#sk-container-id-5 div.sk-toggleable {background-color: white;}#sk-container-id-5 label.sk-toggleable__label {cursor: pointer;display: block;width: 100%;margin-bottom: 0;padding: 0.3em;box-sizing: border-box;text-align: center;}#sk-container-id-5 label.sk-toggleable__label-arrow:before {content: \"▸\";float: left;margin-right: 0.25em;color: #696969;}#sk-container-id-5 label.sk-toggleable__label-arrow:hover:before {color: black;}#sk-container-id-5 div.sk-estimator:hover label.sk-toggleable__label-arrow:before {color: black;}#sk-container-id-5 div.sk-toggleable__content {max-height: 0;max-width: 0;overflow: hidden;text-align: left;background-color: #f0f8ff;}#sk-container-id-5 div.sk-toggleable__content pre {margin: 0.2em;color: black;border-radius: 0.25em;background-color: #f0f8ff;}#sk-container-id-5 input.sk-toggleable__control:checked~div.sk-toggleable__content {max-height: 200px;max-width: 100%;overflow: auto;}#sk-container-id-5 input.sk-toggleable__control:checked~label.sk-toggleable__label-arrow:before {content: \"▾\";}#sk-container-id-5 div.sk-estimator input.sk-toggleable__control:checked~label.sk-toggleable__label {background-color: #d4ebff;}#sk-container-id-5 div.sk-label input.sk-toggleable__control:checked~label.sk-toggleable__label {background-color: #d4ebff;}#sk-container-id-5 input.sk-hidden--visually {border: 0;clip: rect(1px 1px 1px 1px);clip: rect(1px, 1px, 1px, 1px);height: 1px;margin: -1px;overflow: hidden;padding: 0;position: absolute;width: 1px;}#sk-container-id-5 div.sk-estimator {font-family: monospace;background-color: #f0f8ff;border: 1px dotted black;border-radius: 0.25em;box-sizing: border-box;margin-bottom: 0.5em;}#sk-container-id-5 div.sk-estimator:hover {background-color: #d4ebff;}#sk-container-id-5 div.sk-parallel-item::after {content: \"\";width: 100%;border-bottom: 1px solid gray;flex-grow: 1;}#sk-container-id-5 div.sk-label:hover label.sk-toggleable__label {background-color: #d4ebff;}#sk-container-id-5 div.sk-serial::before {content: \"\";position: absolute;border-left: 1px solid gray;box-sizing: border-box;top: 0;bottom: 0;left: 50%;z-index: 0;}#sk-container-id-5 div.sk-serial {display: flex;flex-direction: column;align-items: center;background-color: white;padding-right: 0.2em;padding-left: 0.2em;position: relative;}#sk-container-id-5 div.sk-item {position: relative;z-index: 1;}#sk-container-id-5 div.sk-parallel {display: flex;align-items: stretch;justify-content: center;background-color: white;position: relative;}#sk-container-id-5 div.sk-item::before, #sk-container-id-5 div.sk-parallel-item::before {content: \"\";position: absolute;border-left: 1px solid gray;box-sizing: border-box;top: 0;bottom: 0;left: 50%;z-index: -1;}#sk-container-id-5 div.sk-parallel-item {display: flex;flex-direction: column;z-index: 1;position: relative;background-color: white;}#sk-container-id-5 div.sk-parallel-item:first-child::after {align-self: flex-end;width: 50%;}#sk-container-id-5 div.sk-parallel-item:last-child::after {align-self: flex-start;width: 50%;}#sk-container-id-5 div.sk-parallel-item:only-child::after {width: 0;}#sk-container-id-5 div.sk-dashed-wrapped {border: 1px dashed gray;margin: 0 0.4em 0.5em 0.4em;box-sizing: border-box;padding-bottom: 0.4em;background-color: white;}#sk-container-id-5 div.sk-label label {font-family: monospace;font-weight: bold;display: inline-block;line-height: 1.2em;}#sk-container-id-5 div.sk-label-container {text-align: center;}#sk-container-id-5 div.sk-container {/* jupyter's `normalize.less` sets `[hidden] { display: none; }` but bootstrap.min.css set `[hidden] { display: none !important; }` so we also need the `!important` here to be able to override the default hidden behavior on the sphinx rendered scikit-learn.org. See: https://github.com/scikit-learn/scikit-learn/issues/21755 */display: inline-block !important;position: relative;}#sk-container-id-5 div.sk-text-repr-fallback {display: none;}</style><div id=\"sk-container-id-5\" class=\"sk-top-container\"><div class=\"sk-text-repr-fallback\"><pre>GradientBoostingClassifier()</pre><b>In a Jupyter environment, please rerun this cell to show the HTML representation or trust the notebook. <br />On GitHub, the HTML representation is unable to render, please try loading this page with nbviewer.org.</b></div><div class=\"sk-container\" hidden><div class=\"sk-item\"><div class=\"sk-estimator sk-toggleable\"><input class=\"sk-toggleable__control sk-hidden--visually\" id=\"sk-estimator-id-5\" type=\"checkbox\" checked><label for=\"sk-estimator-id-5\" class=\"sk-toggleable__label sk-toggleable__label-arrow\">GradientBoostingClassifier</label><div class=\"sk-toggleable__content\"><pre>GradientBoostingClassifier()</pre></div></div></div></div></div>"
      ],
      "text/plain": [
       "GradientBoostingClassifier()"
      ]
     },
     "execution_count": 39,
     "metadata": {},
     "output_type": "execute_result"
    }
   ],
   "source": [
    "GradientBoostingClassifier.fit(X_train, y_train)"
   ]
  },
  {
   "cell_type": "code",
   "execution_count": 40,
   "metadata": {},
   "outputs": [],
   "source": [
    "prediction_GradientBoostingClassifier = GradientBoostingClassifier.predict(X_test)"
   ]
  },
  {
   "cell_type": "code",
   "execution_count": 41,
   "metadata": {},
   "outputs": [
    {
     "name": "stderr",
     "output_type": "stream",
     "text": [
      "c:\\Users\\MMMer\\AppData\\Local\\Programs\\Python\\Python311\\Lib\\site-packages\\sklearn\\neural_network\\_multilayer_perceptron.py:686: ConvergenceWarning: Stochastic Optimizer: Maximum iterations (200) reached and the optimization hasn't converged yet.\n",
      "  warnings.warn(\n"
     ]
    },
    {
     "data": {
      "text/html": [
       "<style>#sk-container-id-6 {color: black;background-color: white;}#sk-container-id-6 pre{padding: 0;}#sk-container-id-6 div.sk-toggleable {background-color: white;}#sk-container-id-6 label.sk-toggleable__label {cursor: pointer;display: block;width: 100%;margin-bottom: 0;padding: 0.3em;box-sizing: border-box;text-align: center;}#sk-container-id-6 label.sk-toggleable__label-arrow:before {content: \"▸\";float: left;margin-right: 0.25em;color: #696969;}#sk-container-id-6 label.sk-toggleable__label-arrow:hover:before {color: black;}#sk-container-id-6 div.sk-estimator:hover label.sk-toggleable__label-arrow:before {color: black;}#sk-container-id-6 div.sk-toggleable__content {max-height: 0;max-width: 0;overflow: hidden;text-align: left;background-color: #f0f8ff;}#sk-container-id-6 div.sk-toggleable__content pre {margin: 0.2em;color: black;border-radius: 0.25em;background-color: #f0f8ff;}#sk-container-id-6 input.sk-toggleable__control:checked~div.sk-toggleable__content {max-height: 200px;max-width: 100%;overflow: auto;}#sk-container-id-6 input.sk-toggleable__control:checked~label.sk-toggleable__label-arrow:before {content: \"▾\";}#sk-container-id-6 div.sk-estimator input.sk-toggleable__control:checked~label.sk-toggleable__label {background-color: #d4ebff;}#sk-container-id-6 div.sk-label input.sk-toggleable__control:checked~label.sk-toggleable__label {background-color: #d4ebff;}#sk-container-id-6 input.sk-hidden--visually {border: 0;clip: rect(1px 1px 1px 1px);clip: rect(1px, 1px, 1px, 1px);height: 1px;margin: -1px;overflow: hidden;padding: 0;position: absolute;width: 1px;}#sk-container-id-6 div.sk-estimator {font-family: monospace;background-color: #f0f8ff;border: 1px dotted black;border-radius: 0.25em;box-sizing: border-box;margin-bottom: 0.5em;}#sk-container-id-6 div.sk-estimator:hover {background-color: #d4ebff;}#sk-container-id-6 div.sk-parallel-item::after {content: \"\";width: 100%;border-bottom: 1px solid gray;flex-grow: 1;}#sk-container-id-6 div.sk-label:hover label.sk-toggleable__label {background-color: #d4ebff;}#sk-container-id-6 div.sk-serial::before {content: \"\";position: absolute;border-left: 1px solid gray;box-sizing: border-box;top: 0;bottom: 0;left: 50%;z-index: 0;}#sk-container-id-6 div.sk-serial {display: flex;flex-direction: column;align-items: center;background-color: white;padding-right: 0.2em;padding-left: 0.2em;position: relative;}#sk-container-id-6 div.sk-item {position: relative;z-index: 1;}#sk-container-id-6 div.sk-parallel {display: flex;align-items: stretch;justify-content: center;background-color: white;position: relative;}#sk-container-id-6 div.sk-item::before, #sk-container-id-6 div.sk-parallel-item::before {content: \"\";position: absolute;border-left: 1px solid gray;box-sizing: border-box;top: 0;bottom: 0;left: 50%;z-index: -1;}#sk-container-id-6 div.sk-parallel-item {display: flex;flex-direction: column;z-index: 1;position: relative;background-color: white;}#sk-container-id-6 div.sk-parallel-item:first-child::after {align-self: flex-end;width: 50%;}#sk-container-id-6 div.sk-parallel-item:last-child::after {align-self: flex-start;width: 50%;}#sk-container-id-6 div.sk-parallel-item:only-child::after {width: 0;}#sk-container-id-6 div.sk-dashed-wrapped {border: 1px dashed gray;margin: 0 0.4em 0.5em 0.4em;box-sizing: border-box;padding-bottom: 0.4em;background-color: white;}#sk-container-id-6 div.sk-label label {font-family: monospace;font-weight: bold;display: inline-block;line-height: 1.2em;}#sk-container-id-6 div.sk-label-container {text-align: center;}#sk-container-id-6 div.sk-container {/* jupyter's `normalize.less` sets `[hidden] { display: none; }` but bootstrap.min.css set `[hidden] { display: none !important; }` so we also need the `!important` here to be able to override the default hidden behavior on the sphinx rendered scikit-learn.org. See: https://github.com/scikit-learn/scikit-learn/issues/21755 */display: inline-block !important;position: relative;}#sk-container-id-6 div.sk-text-repr-fallback {display: none;}</style><div id=\"sk-container-id-6\" class=\"sk-top-container\"><div class=\"sk-text-repr-fallback\"><pre>MLPClassifier()</pre><b>In a Jupyter environment, please rerun this cell to show the HTML representation or trust the notebook. <br />On GitHub, the HTML representation is unable to render, please try loading this page with nbviewer.org.</b></div><div class=\"sk-container\" hidden><div class=\"sk-item\"><div class=\"sk-estimator sk-toggleable\"><input class=\"sk-toggleable__control sk-hidden--visually\" id=\"sk-estimator-id-6\" type=\"checkbox\" checked><label for=\"sk-estimator-id-6\" class=\"sk-toggleable__label sk-toggleable__label-arrow\">MLPClassifier</label><div class=\"sk-toggleable__content\"><pre>MLPClassifier()</pre></div></div></div></div></div>"
      ],
      "text/plain": [
       "MLPClassifier()"
      ]
     },
     "execution_count": 41,
     "metadata": {},
     "output_type": "execute_result"
    }
   ],
   "source": [
    "MLPClassifier.fit(X_train, y_train)"
   ]
  },
  {
   "cell_type": "code",
   "execution_count": 42,
   "metadata": {},
   "outputs": [],
   "source": [
    "prediction_MLPClassifier = MLPClassifier.predict(X_test)"
   ]
  },
  {
   "cell_type": "code",
   "execution_count": 43,
   "metadata": {},
   "outputs": [
    {
     "data": {
      "text/html": [
       "<style>#sk-container-id-7 {color: black;background-color: white;}#sk-container-id-7 pre{padding: 0;}#sk-container-id-7 div.sk-toggleable {background-color: white;}#sk-container-id-7 label.sk-toggleable__label {cursor: pointer;display: block;width: 100%;margin-bottom: 0;padding: 0.3em;box-sizing: border-box;text-align: center;}#sk-container-id-7 label.sk-toggleable__label-arrow:before {content: \"▸\";float: left;margin-right: 0.25em;color: #696969;}#sk-container-id-7 label.sk-toggleable__label-arrow:hover:before {color: black;}#sk-container-id-7 div.sk-estimator:hover label.sk-toggleable__label-arrow:before {color: black;}#sk-container-id-7 div.sk-toggleable__content {max-height: 0;max-width: 0;overflow: hidden;text-align: left;background-color: #f0f8ff;}#sk-container-id-7 div.sk-toggleable__content pre {margin: 0.2em;color: black;border-radius: 0.25em;background-color: #f0f8ff;}#sk-container-id-7 input.sk-toggleable__control:checked~div.sk-toggleable__content {max-height: 200px;max-width: 100%;overflow: auto;}#sk-container-id-7 input.sk-toggleable__control:checked~label.sk-toggleable__label-arrow:before {content: \"▾\";}#sk-container-id-7 div.sk-estimator input.sk-toggleable__control:checked~label.sk-toggleable__label {background-color: #d4ebff;}#sk-container-id-7 div.sk-label input.sk-toggleable__control:checked~label.sk-toggleable__label {background-color: #d4ebff;}#sk-container-id-7 input.sk-hidden--visually {border: 0;clip: rect(1px 1px 1px 1px);clip: rect(1px, 1px, 1px, 1px);height: 1px;margin: -1px;overflow: hidden;padding: 0;position: absolute;width: 1px;}#sk-container-id-7 div.sk-estimator {font-family: monospace;background-color: #f0f8ff;border: 1px dotted black;border-radius: 0.25em;box-sizing: border-box;margin-bottom: 0.5em;}#sk-container-id-7 div.sk-estimator:hover {background-color: #d4ebff;}#sk-container-id-7 div.sk-parallel-item::after {content: \"\";width: 100%;border-bottom: 1px solid gray;flex-grow: 1;}#sk-container-id-7 div.sk-label:hover label.sk-toggleable__label {background-color: #d4ebff;}#sk-container-id-7 div.sk-serial::before {content: \"\";position: absolute;border-left: 1px solid gray;box-sizing: border-box;top: 0;bottom: 0;left: 50%;z-index: 0;}#sk-container-id-7 div.sk-serial {display: flex;flex-direction: column;align-items: center;background-color: white;padding-right: 0.2em;padding-left: 0.2em;position: relative;}#sk-container-id-7 div.sk-item {position: relative;z-index: 1;}#sk-container-id-7 div.sk-parallel {display: flex;align-items: stretch;justify-content: center;background-color: white;position: relative;}#sk-container-id-7 div.sk-item::before, #sk-container-id-7 div.sk-parallel-item::before {content: \"\";position: absolute;border-left: 1px solid gray;box-sizing: border-box;top: 0;bottom: 0;left: 50%;z-index: -1;}#sk-container-id-7 div.sk-parallel-item {display: flex;flex-direction: column;z-index: 1;position: relative;background-color: white;}#sk-container-id-7 div.sk-parallel-item:first-child::after {align-self: flex-end;width: 50%;}#sk-container-id-7 div.sk-parallel-item:last-child::after {align-self: flex-start;width: 50%;}#sk-container-id-7 div.sk-parallel-item:only-child::after {width: 0;}#sk-container-id-7 div.sk-dashed-wrapped {border: 1px dashed gray;margin: 0 0.4em 0.5em 0.4em;box-sizing: border-box;padding-bottom: 0.4em;background-color: white;}#sk-container-id-7 div.sk-label label {font-family: monospace;font-weight: bold;display: inline-block;line-height: 1.2em;}#sk-container-id-7 div.sk-label-container {text-align: center;}#sk-container-id-7 div.sk-container {/* jupyter's `normalize.less` sets `[hidden] { display: none; }` but bootstrap.min.css set `[hidden] { display: none !important; }` so we also need the `!important` here to be able to override the default hidden behavior on the sphinx rendered scikit-learn.org. See: https://github.com/scikit-learn/scikit-learn/issues/21755 */display: inline-block !important;position: relative;}#sk-container-id-7 div.sk-text-repr-fallback {display: none;}</style><div id=\"sk-container-id-7\" class=\"sk-top-container\"><div class=\"sk-text-repr-fallback\"><pre>GaussianNB()</pre><b>In a Jupyter environment, please rerun this cell to show the HTML representation or trust the notebook. <br />On GitHub, the HTML representation is unable to render, please try loading this page with nbviewer.org.</b></div><div class=\"sk-container\" hidden><div class=\"sk-item\"><div class=\"sk-estimator sk-toggleable\"><input class=\"sk-toggleable__control sk-hidden--visually\" id=\"sk-estimator-id-7\" type=\"checkbox\" checked><label for=\"sk-estimator-id-7\" class=\"sk-toggleable__label sk-toggleable__label-arrow\">GaussianNB</label><div class=\"sk-toggleable__content\"><pre>GaussianNB()</pre></div></div></div></div></div>"
      ],
      "text/plain": [
       "GaussianNB()"
      ]
     },
     "execution_count": 43,
     "metadata": {},
     "output_type": "execute_result"
    }
   ],
   "source": [
    "GaussianNB.fit(X_train, y_train)"
   ]
  },
  {
   "cell_type": "code",
   "execution_count": 44,
   "metadata": {},
   "outputs": [],
   "source": [
    "prediction_GaussianNB = GaussianNB.predict(X_test)"
   ]
  },
  {
   "cell_type": "code",
   "execution_count": 45,
   "metadata": {},
   "outputs": [],
   "source": [
    "from sklearn.metrics import accuracy_score"
   ]
  },
  {
   "cell_type": "code",
   "execution_count": 46,
   "metadata": {},
   "outputs": [
    {
     "data": {
      "text/plain": [
       "0.7417582417582418"
      ]
     },
     "execution_count": 46,
     "metadata": {},
     "output_type": "execute_result"
    }
   ],
   "source": [
    "accuracy_score(y_test,prediction_KNeighborsClassifier)"
   ]
  },
  {
   "cell_type": "code",
   "execution_count": 47,
   "metadata": {},
   "outputs": [
    {
     "data": {
      "text/plain": [
       "0.39194139194139194"
      ]
     },
     "execution_count": 47,
     "metadata": {},
     "output_type": "execute_result"
    }
   ],
   "source": [
    "accuracy_score(y_test,prediction_SVC)"
   ]
  },
  {
   "cell_type": "code",
   "execution_count": 48,
   "metadata": {},
   "outputs": [
    {
     "data": {
      "text/plain": [
       "0.8846153846153846"
      ]
     },
     "execution_count": 48,
     "metadata": {},
     "output_type": "execute_result"
    }
   ],
   "source": [
    "accuracy_score(y_test,prediction_DecisionTreeClassifier)"
   ]
  },
  {
   "cell_type": "code",
   "execution_count": 49,
   "metadata": {},
   "outputs": [
    {
     "data": {
      "text/plain": [
       "0.9468864468864469"
      ]
     },
     "execution_count": 49,
     "metadata": {},
     "output_type": "execute_result"
    }
   ],
   "source": [
    "accuracy_score(y_test,prediction_RandomForestClassifier)"
   ]
  },
  {
   "cell_type": "code",
   "execution_count": 50,
   "metadata": {},
   "outputs": [
    {
     "data": {
      "text/plain": [
       "0.9404761904761905"
      ]
     },
     "execution_count": 50,
     "metadata": {},
     "output_type": "execute_result"
    }
   ],
   "source": [
    "accuracy_score(y_test,prediction_GradientBoostingClassifier)"
   ]
  },
  {
   "cell_type": "code",
   "execution_count": 51,
   "metadata": {},
   "outputs": [
    {
     "data": {
      "text/plain": [
       "0.9377289377289377"
      ]
     },
     "execution_count": 51,
     "metadata": {},
     "output_type": "execute_result"
    }
   ],
   "source": [
    "accuracy_score(y_test,prediction_MLPClassifier)"
   ]
  },
  {
   "cell_type": "code",
   "execution_count": 52,
   "metadata": {},
   "outputs": [
    {
     "data": {
      "text/plain": [
       "0.9386446886446886"
      ]
     },
     "execution_count": 52,
     "metadata": {},
     "output_type": "execute_result"
    }
   ],
   "source": [
    "accuracy_score(y_test,prediction_GaussianNB)"
   ]
  },
  {
   "cell_type": "code",
   "execution_count": 53,
   "metadata": {},
   "outputs": [],
   "source": [
    "prediction = RandomForestClassifier.predict(data_test_x)"
   ]
  },
  {
   "cell_type": "code",
   "execution_count": 54,
   "metadata": {},
   "outputs": [],
   "source": [
    "data = {\n",
    "    \"id\":range(2340),\n",
    "    \"Öbek İsmi\":prediction\n",
    "}\n",
    "submit5 = pd.DataFrame(data)\n",
    "submit5.set_index(\"id\",inplace=True)\n",
    "submit5\n",
    "submit5.to_csv(\"submit5.csv\")"
   ]
  },
  {
   "cell_type": "code",
   "execution_count": 55,
   "metadata": {},
   "outputs": [],
   "source": [
    "prediction2 = MLPClassifier.predict(data_test_x)\n",
    "data2 = {\n",
    "    \"id\":range(2340),\n",
    "    \"Öbek İsmi\":prediction2\n",
    "}\n",
    "submit6 = pd.DataFrame(data2)\n",
    "submit6.set_index(\"id\",inplace=True)\n",
    "submit6\n",
    "submit6.to_csv(\"submit6.csv\")"
   ]
  },
  {
   "cell_type": "code",
   "execution_count": 56,
   "metadata": {},
   "outputs": [
    {
     "data": {
      "text/html": [
       "<style>#sk-container-id-8 {color: black;background-color: white;}#sk-container-id-8 pre{padding: 0;}#sk-container-id-8 div.sk-toggleable {background-color: white;}#sk-container-id-8 label.sk-toggleable__label {cursor: pointer;display: block;width: 100%;margin-bottom: 0;padding: 0.3em;box-sizing: border-box;text-align: center;}#sk-container-id-8 label.sk-toggleable__label-arrow:before {content: \"▸\";float: left;margin-right: 0.25em;color: #696969;}#sk-container-id-8 label.sk-toggleable__label-arrow:hover:before {color: black;}#sk-container-id-8 div.sk-estimator:hover label.sk-toggleable__label-arrow:before {color: black;}#sk-container-id-8 div.sk-toggleable__content {max-height: 0;max-width: 0;overflow: hidden;text-align: left;background-color: #f0f8ff;}#sk-container-id-8 div.sk-toggleable__content pre {margin: 0.2em;color: black;border-radius: 0.25em;background-color: #f0f8ff;}#sk-container-id-8 input.sk-toggleable__control:checked~div.sk-toggleable__content {max-height: 200px;max-width: 100%;overflow: auto;}#sk-container-id-8 input.sk-toggleable__control:checked~label.sk-toggleable__label-arrow:before {content: \"▾\";}#sk-container-id-8 div.sk-estimator input.sk-toggleable__control:checked~label.sk-toggleable__label {background-color: #d4ebff;}#sk-container-id-8 div.sk-label input.sk-toggleable__control:checked~label.sk-toggleable__label {background-color: #d4ebff;}#sk-container-id-8 input.sk-hidden--visually {border: 0;clip: rect(1px 1px 1px 1px);clip: rect(1px, 1px, 1px, 1px);height: 1px;margin: -1px;overflow: hidden;padding: 0;position: absolute;width: 1px;}#sk-container-id-8 div.sk-estimator {font-family: monospace;background-color: #f0f8ff;border: 1px dotted black;border-radius: 0.25em;box-sizing: border-box;margin-bottom: 0.5em;}#sk-container-id-8 div.sk-estimator:hover {background-color: #d4ebff;}#sk-container-id-8 div.sk-parallel-item::after {content: \"\";width: 100%;border-bottom: 1px solid gray;flex-grow: 1;}#sk-container-id-8 div.sk-label:hover label.sk-toggleable__label {background-color: #d4ebff;}#sk-container-id-8 div.sk-serial::before {content: \"\";position: absolute;border-left: 1px solid gray;box-sizing: border-box;top: 0;bottom: 0;left: 50%;z-index: 0;}#sk-container-id-8 div.sk-serial {display: flex;flex-direction: column;align-items: center;background-color: white;padding-right: 0.2em;padding-left: 0.2em;position: relative;}#sk-container-id-8 div.sk-item {position: relative;z-index: 1;}#sk-container-id-8 div.sk-parallel {display: flex;align-items: stretch;justify-content: center;background-color: white;position: relative;}#sk-container-id-8 div.sk-item::before, #sk-container-id-8 div.sk-parallel-item::before {content: \"\";position: absolute;border-left: 1px solid gray;box-sizing: border-box;top: 0;bottom: 0;left: 50%;z-index: -1;}#sk-container-id-8 div.sk-parallel-item {display: flex;flex-direction: column;z-index: 1;position: relative;background-color: white;}#sk-container-id-8 div.sk-parallel-item:first-child::after {align-self: flex-end;width: 50%;}#sk-container-id-8 div.sk-parallel-item:last-child::after {align-self: flex-start;width: 50%;}#sk-container-id-8 div.sk-parallel-item:only-child::after {width: 0;}#sk-container-id-8 div.sk-dashed-wrapped {border: 1px dashed gray;margin: 0 0.4em 0.5em 0.4em;box-sizing: border-box;padding-bottom: 0.4em;background-color: white;}#sk-container-id-8 div.sk-label label {font-family: monospace;font-weight: bold;display: inline-block;line-height: 1.2em;}#sk-container-id-8 div.sk-label-container {text-align: center;}#sk-container-id-8 div.sk-container {/* jupyter's `normalize.less` sets `[hidden] { display: none; }` but bootstrap.min.css set `[hidden] { display: none !important; }` so we also need the `!important` here to be able to override the default hidden behavior on the sphinx rendered scikit-learn.org. See: https://github.com/scikit-learn/scikit-learn/issues/21755 */display: inline-block !important;position: relative;}#sk-container-id-8 div.sk-text-repr-fallback {display: none;}</style><div id=\"sk-container-id-8\" class=\"sk-top-container\"><div class=\"sk-text-repr-fallback\"><pre>LinearDiscriminantAnalysis()</pre><b>In a Jupyter environment, please rerun this cell to show the HTML representation or trust the notebook. <br />On GitHub, the HTML representation is unable to render, please try loading this page with nbviewer.org.</b></div><div class=\"sk-container\" hidden><div class=\"sk-item\"><div class=\"sk-estimator sk-toggleable\"><input class=\"sk-toggleable__control sk-hidden--visually\" id=\"sk-estimator-id-8\" type=\"checkbox\" checked><label for=\"sk-estimator-id-8\" class=\"sk-toggleable__label sk-toggleable__label-arrow\">LinearDiscriminantAnalysis</label><div class=\"sk-toggleable__content\"><pre>LinearDiscriminantAnalysis()</pre></div></div></div></div></div>"
      ],
      "text/plain": [
       "LinearDiscriminantAnalysis()"
      ]
     },
     "execution_count": 56,
     "metadata": {},
     "output_type": "execute_result"
    }
   ],
   "source": [
    "from sklearn.discriminant_analysis import LinearDiscriminantAnalysis\n",
    "LinearDiscriminantAnalysis = LinearDiscriminantAnalysis()\n",
    "LinearDiscriminantAnalysis.fit(X_train,y_train)"
   ]
  },
  {
   "cell_type": "code",
   "execution_count": 57,
   "metadata": {},
   "outputs": [],
   "source": [
    "prediction_LinearDiscriminationAnalysis = LinearDiscriminantAnalysis.predict(X_test)"
   ]
  },
  {
   "cell_type": "code",
   "execution_count": 58,
   "metadata": {},
   "outputs": [
    {
     "data": {
      "text/plain": [
       "0.9331501831501832"
      ]
     },
     "execution_count": 58,
     "metadata": {},
     "output_type": "execute_result"
    }
   ],
   "source": [
    "accuracy_score(y_test,prediction_LinearDiscriminationAnalysis)"
   ]
  },
  {
   "cell_type": "code",
   "execution_count": 59,
   "metadata": {},
   "outputs": [
    {
     "name": "stderr",
     "output_type": "stream",
     "text": [
      "c:\\Users\\MMMer\\AppData\\Local\\Programs\\Python\\Python311\\Lib\\site-packages\\sklearn\\linear_model\\_logistic.py:458: ConvergenceWarning: lbfgs failed to converge (status=1):\n",
      "STOP: TOTAL NO. of ITERATIONS REACHED LIMIT.\n",
      "\n",
      "Increase the number of iterations (max_iter) or scale the data as shown in:\n",
      "    https://scikit-learn.org/stable/modules/preprocessing.html\n",
      "Please also refer to the documentation for alternative solver options:\n",
      "    https://scikit-learn.org/stable/modules/linear_model.html#logistic-regression\n",
      "  n_iter_i = _check_optimize_result(\n"
     ]
    },
    {
     "data": {
      "text/html": [
       "<style>#sk-container-id-9 {color: black;background-color: white;}#sk-container-id-9 pre{padding: 0;}#sk-container-id-9 div.sk-toggleable {background-color: white;}#sk-container-id-9 label.sk-toggleable__label {cursor: pointer;display: block;width: 100%;margin-bottom: 0;padding: 0.3em;box-sizing: border-box;text-align: center;}#sk-container-id-9 label.sk-toggleable__label-arrow:before {content: \"▸\";float: left;margin-right: 0.25em;color: #696969;}#sk-container-id-9 label.sk-toggleable__label-arrow:hover:before {color: black;}#sk-container-id-9 div.sk-estimator:hover label.sk-toggleable__label-arrow:before {color: black;}#sk-container-id-9 div.sk-toggleable__content {max-height: 0;max-width: 0;overflow: hidden;text-align: left;background-color: #f0f8ff;}#sk-container-id-9 div.sk-toggleable__content pre {margin: 0.2em;color: black;border-radius: 0.25em;background-color: #f0f8ff;}#sk-container-id-9 input.sk-toggleable__control:checked~div.sk-toggleable__content {max-height: 200px;max-width: 100%;overflow: auto;}#sk-container-id-9 input.sk-toggleable__control:checked~label.sk-toggleable__label-arrow:before {content: \"▾\";}#sk-container-id-9 div.sk-estimator input.sk-toggleable__control:checked~label.sk-toggleable__label {background-color: #d4ebff;}#sk-container-id-9 div.sk-label input.sk-toggleable__control:checked~label.sk-toggleable__label {background-color: #d4ebff;}#sk-container-id-9 input.sk-hidden--visually {border: 0;clip: rect(1px 1px 1px 1px);clip: rect(1px, 1px, 1px, 1px);height: 1px;margin: -1px;overflow: hidden;padding: 0;position: absolute;width: 1px;}#sk-container-id-9 div.sk-estimator {font-family: monospace;background-color: #f0f8ff;border: 1px dotted black;border-radius: 0.25em;box-sizing: border-box;margin-bottom: 0.5em;}#sk-container-id-9 div.sk-estimator:hover {background-color: #d4ebff;}#sk-container-id-9 div.sk-parallel-item::after {content: \"\";width: 100%;border-bottom: 1px solid gray;flex-grow: 1;}#sk-container-id-9 div.sk-label:hover label.sk-toggleable__label {background-color: #d4ebff;}#sk-container-id-9 div.sk-serial::before {content: \"\";position: absolute;border-left: 1px solid gray;box-sizing: border-box;top: 0;bottom: 0;left: 50%;z-index: 0;}#sk-container-id-9 div.sk-serial {display: flex;flex-direction: column;align-items: center;background-color: white;padding-right: 0.2em;padding-left: 0.2em;position: relative;}#sk-container-id-9 div.sk-item {position: relative;z-index: 1;}#sk-container-id-9 div.sk-parallel {display: flex;align-items: stretch;justify-content: center;background-color: white;position: relative;}#sk-container-id-9 div.sk-item::before, #sk-container-id-9 div.sk-parallel-item::before {content: \"\";position: absolute;border-left: 1px solid gray;box-sizing: border-box;top: 0;bottom: 0;left: 50%;z-index: -1;}#sk-container-id-9 div.sk-parallel-item {display: flex;flex-direction: column;z-index: 1;position: relative;background-color: white;}#sk-container-id-9 div.sk-parallel-item:first-child::after {align-self: flex-end;width: 50%;}#sk-container-id-9 div.sk-parallel-item:last-child::after {align-self: flex-start;width: 50%;}#sk-container-id-9 div.sk-parallel-item:only-child::after {width: 0;}#sk-container-id-9 div.sk-dashed-wrapped {border: 1px dashed gray;margin: 0 0.4em 0.5em 0.4em;box-sizing: border-box;padding-bottom: 0.4em;background-color: white;}#sk-container-id-9 div.sk-label label {font-family: monospace;font-weight: bold;display: inline-block;line-height: 1.2em;}#sk-container-id-9 div.sk-label-container {text-align: center;}#sk-container-id-9 div.sk-container {/* jupyter's `normalize.less` sets `[hidden] { display: none; }` but bootstrap.min.css set `[hidden] { display: none !important; }` so we also need the `!important` here to be able to override the default hidden behavior on the sphinx rendered scikit-learn.org. See: https://github.com/scikit-learn/scikit-learn/issues/21755 */display: inline-block !important;position: relative;}#sk-container-id-9 div.sk-text-repr-fallback {display: none;}</style><div id=\"sk-container-id-9\" class=\"sk-top-container\"><div class=\"sk-text-repr-fallback\"><pre>LogisticRegression()</pre><b>In a Jupyter environment, please rerun this cell to show the HTML representation or trust the notebook. <br />On GitHub, the HTML representation is unable to render, please try loading this page with nbviewer.org.</b></div><div class=\"sk-container\" hidden><div class=\"sk-item\"><div class=\"sk-estimator sk-toggleable\"><input class=\"sk-toggleable__control sk-hidden--visually\" id=\"sk-estimator-id-9\" type=\"checkbox\" checked><label for=\"sk-estimator-id-9\" class=\"sk-toggleable__label sk-toggleable__label-arrow\">LogisticRegression</label><div class=\"sk-toggleable__content\"><pre>LogisticRegression()</pre></div></div></div></div></div>"
      ],
      "text/plain": [
       "LogisticRegression()"
      ]
     },
     "execution_count": 59,
     "metadata": {},
     "output_type": "execute_result"
    }
   ],
   "source": [
    "from sklearn.linear_model import LogisticRegression\n",
    "LogisticRegression = LogisticRegression()\n",
    "LogisticRegression.fit(X_train,y_train)"
   ]
  },
  {
   "cell_type": "code",
   "execution_count": 60,
   "metadata": {},
   "outputs": [],
   "source": [
    "prediction_LogisticRegression = LogisticRegression.predict(X_test)"
   ]
  },
  {
   "cell_type": "code",
   "execution_count": 61,
   "metadata": {},
   "outputs": [
    {
     "data": {
      "text/plain": [
       "0.6547619047619048"
      ]
     },
     "execution_count": 61,
     "metadata": {},
     "output_type": "execute_result"
    }
   ],
   "source": [
    "accuracy_score(y_test,prediction_LogisticRegression)"
   ]
  },
  {
   "cell_type": "code",
   "execution_count": 62,
   "metadata": {},
   "outputs": [],
   "source": [
    "prediction3 = MLPClassifier.predict(data_test_x)\n",
    "data3 = {\n",
    "    \"id\":range(2340),\n",
    "    \"Öbek İsmi\":prediction3\n",
    "}\n",
    "submit7 = pd.DataFrame(data3)\n",
    "submit7.set_index(\"id\",inplace=True)\n",
    "submit7\n",
    "submit7.to_csv(\"submit7.csv\")"
   ]
  }
 ],
 "metadata": {
  "kernelspec": {
   "display_name": "Python 3",
   "language": "python",
   "name": "python3"
  },
  "language_info": {
   "codemirror_mode": {
    "name": "ipython",
    "version": 3
   },
   "file_extension": ".py",
   "mimetype": "text/x-python",
   "name": "python",
   "nbconvert_exporter": "python",
   "pygments_lexer": "ipython3",
   "version": "3.11.5"
  },
  "orig_nbformat": 4
 },
 "nbformat": 4,
 "nbformat_minor": 2
}
